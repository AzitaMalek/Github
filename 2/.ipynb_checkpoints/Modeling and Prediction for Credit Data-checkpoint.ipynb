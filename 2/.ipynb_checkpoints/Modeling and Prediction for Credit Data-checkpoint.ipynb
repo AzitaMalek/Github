{
 "cells": [
  {
   "cell_type": "markdown",
   "metadata": {},
   "source": []
  },
  {
   "cell_type": "code",
   "execution_count": 2,
   "metadata": {},
   "outputs": [],
   "source": [
    "# The following piece of code gives the opportunity to show multiple outputs\n",
    "# in one cell:\n",
    "from IPython.core.interactiveshell import InteractiveShell\n",
    "InteractiveShell.ast_node_interactivity = \"all\"\n",
    "\n",
    "\n",
    "# Colorful outputs\n",
    "class bcolors:\n",
    "    RED       = '\\033[91m'\n",
    "    OKBLUE    = '\\033[94m'\n",
    "    BOLD      = '\\033[1m'\n",
    "    UNDERLINE = '\\033[4m'\n",
    "    ENDC      = '\\033[0m'"
   ]
  },
  {
   "cell_type": "markdown",
   "metadata": {},
   "source": []
  },
  {
   "cell_type": "markdown",
   "metadata": {},
   "source": [
    "- `Credit.csv` data from http://www-bcf.usc.edu/~gareth/ISL/Credit.csv is described using descriptive statistics such as measures of central tendancy, dispersion or association.\n",
    "- The data is explored by vizualing it through various figures.\n",
    "- Some variables of this dataset are **qualitative** and some are **quantitative**. A matrix is created $\\mathbf{X}$ that includes only the following attributes:`Income`, `Limit`, `Rating`, `Cards`, `Age`, and `Education`.\n",
    "- A binary variable is created `Balance_1500` which equals $1$ for each observation if `Balance` $> 1500$ for that observation and equals $0$ otherwise.\n",
    "- Model is obtained for `Balance_1500` by the explanatory variables using the following models: \n",
    "    + logistic regression, \n",
    "    + linear discriminant, and \n",
    "    + quadratic discriminant.\n",
    "- Coefficients are interpreted.    \n",
    "- I have found the probability of (`Balance` $> 1500$), for the following values, using all three aforementionned methods:\n",
    "\n",
    "|    Income    |    Limit     |     Rating     |    Cards     |      Age        |   Education   | \n",
    "|--------------|--------------|----------------|--------------|-----------------|---------------|\n",
    "|      63      |    8100      |     600        |      4       |       30        |      13       |\n",
    "|     186      |    13414     |     950        |      2       |       41        |      13       |\n",
    "\n",
    "- Methods are compared.\n",
    "    \n",
    "- For each method, the confusion matrix, the accuracy score and the AUC using all observations are printed and compared. \n",
    "- The ROC Curve of the three methods are plotted on the same figure."
   ]
  },
  {
   "cell_type": "code",
   "execution_count": 3,
   "metadata": {},
   "outputs": [
    {
     "data": {
      "text/html": [
       "<div>\n",
       "<style scoped>\n",
       "    .dataframe tbody tr th:only-of-type {\n",
       "        vertical-align: middle;\n",
       "    }\n",
       "\n",
       "    .dataframe tbody tr th {\n",
       "        vertical-align: top;\n",
       "    }\n",
       "\n",
       "    .dataframe thead th {\n",
       "        text-align: right;\n",
       "    }\n",
       "</style>\n",
       "<table border=\"1\" class=\"dataframe\">\n",
       "  <thead>\n",
       "    <tr style=\"text-align: right;\">\n",
       "      <th></th>\n",
       "      <th>Income</th>\n",
       "      <th>Limit</th>\n",
       "      <th>Rating</th>\n",
       "      <th>Cards</th>\n",
       "      <th>Age</th>\n",
       "      <th>Education</th>\n",
       "      <th>Gender</th>\n",
       "      <th>Student</th>\n",
       "      <th>Married</th>\n",
       "      <th>Ethnicity</th>\n",
       "      <th>Balance</th>\n",
       "    </tr>\n",
       "  </thead>\n",
       "  <tbody>\n",
       "    <tr>\n",
       "      <th>0</th>\n",
       "      <td>14.891</td>\n",
       "      <td>3606</td>\n",
       "      <td>283</td>\n",
       "      <td>2</td>\n",
       "      <td>34</td>\n",
       "      <td>11</td>\n",
       "      <td>Male</td>\n",
       "      <td>No</td>\n",
       "      <td>Yes</td>\n",
       "      <td>Caucasian</td>\n",
       "      <td>333</td>\n",
       "    </tr>\n",
       "    <tr>\n",
       "      <th>1</th>\n",
       "      <td>106.025</td>\n",
       "      <td>6645</td>\n",
       "      <td>483</td>\n",
       "      <td>3</td>\n",
       "      <td>82</td>\n",
       "      <td>15</td>\n",
       "      <td>Female</td>\n",
       "      <td>Yes</td>\n",
       "      <td>Yes</td>\n",
       "      <td>Asian</td>\n",
       "      <td>903</td>\n",
       "    </tr>\n",
       "    <tr>\n",
       "      <th>2</th>\n",
       "      <td>104.593</td>\n",
       "      <td>7075</td>\n",
       "      <td>514</td>\n",
       "      <td>4</td>\n",
       "      <td>71</td>\n",
       "      <td>11</td>\n",
       "      <td>Male</td>\n",
       "      <td>No</td>\n",
       "      <td>No</td>\n",
       "      <td>Asian</td>\n",
       "      <td>580</td>\n",
       "    </tr>\n",
       "    <tr>\n",
       "      <th>3</th>\n",
       "      <td>148.924</td>\n",
       "      <td>9504</td>\n",
       "      <td>681</td>\n",
       "      <td>3</td>\n",
       "      <td>36</td>\n",
       "      <td>11</td>\n",
       "      <td>Female</td>\n",
       "      <td>No</td>\n",
       "      <td>No</td>\n",
       "      <td>Asian</td>\n",
       "      <td>964</td>\n",
       "    </tr>\n",
       "    <tr>\n",
       "      <th>4</th>\n",
       "      <td>55.882</td>\n",
       "      <td>4897</td>\n",
       "      <td>357</td>\n",
       "      <td>2</td>\n",
       "      <td>68</td>\n",
       "      <td>16</td>\n",
       "      <td>Male</td>\n",
       "      <td>No</td>\n",
       "      <td>Yes</td>\n",
       "      <td>Caucasian</td>\n",
       "      <td>331</td>\n",
       "    </tr>\n",
       "  </tbody>\n",
       "</table>\n",
       "</div>"
      ],
      "text/plain": [
       "    Income  Limit  Rating  Cards  Age  Education  Gender Student Married  \\\n",
       "0   14.891   3606     283      2   34         11    Male      No     Yes   \n",
       "1  106.025   6645     483      3   82         15  Female     Yes     Yes   \n",
       "2  104.593   7075     514      4   71         11    Male      No      No   \n",
       "3  148.924   9504     681      3   36         11  Female      No      No   \n",
       "4   55.882   4897     357      2   68         16    Male      No     Yes   \n",
       "\n",
       "   Ethnicity  Balance  \n",
       "0  Caucasian      333  \n",
       "1      Asian      903  \n",
       "2      Asian      580  \n",
       "3      Asian      964  \n",
       "4  Caucasian      331  "
      ]
     },
     "execution_count": 3,
     "metadata": {},
     "output_type": "execute_result"
    },
    {
     "name": "stdout",
     "output_type": "stream",
     "text": [
      "           Income         Limit      Rating       Cards         Age  \\\n",
      "count  400.000000    400.000000  400.000000  400.000000  400.000000   \n",
      "mean    45.218885   4735.600000  354.940000    2.957500   55.667500   \n",
      "std     35.244273   2308.198848  154.724143    1.371275   17.249807   \n",
      "min     10.354000    855.000000   93.000000    1.000000   23.000000   \n",
      "25%     21.007250   3088.000000  247.250000    2.000000   41.750000   \n",
      "50%     33.115500   4622.500000  344.000000    3.000000   56.000000   \n",
      "75%     57.470750   5872.750000  437.250000    4.000000   70.000000   \n",
      "max    186.634000  13913.000000  982.000000    9.000000   98.000000   \n",
      "\n",
      "        Education      Balance  \n",
      "count  400.000000   400.000000  \n",
      "mean    13.450000   520.015000  \n",
      "std      3.125207   459.758877  \n",
      "min      5.000000     0.000000  \n",
      "25%     11.000000    68.750000  \n",
      "50%     14.000000   459.500000  \n",
      "75%     16.000000   863.000000  \n",
      "max     20.000000  1999.000000  \n"
     ]
    },
    {
     "data": {
      "text/plain": [
       "<Figure size 1584x1584 with 0 Axes>"
      ]
     },
     "execution_count": 3,
     "metadata": {},
     "output_type": "execute_result"
    },
    {
     "data": {
      "text/plain": [
       "<matplotlib.axes._subplots.AxesSubplot at 0x2dee7530240>"
      ]
     },
     "execution_count": 3,
     "metadata": {},
     "output_type": "execute_result"
    },
    {
     "data": {
      "text/plain": [
       "[<matplotlib.lines.Line2D at 0x2deec699128>]"
      ]
     },
     "execution_count": 3,
     "metadata": {},
     "output_type": "execute_result"
    },
    {
     "data": {
      "text/plain": [
       "Text(0,0.5,'Balance vs Income')"
      ]
     },
     "execution_count": 3,
     "metadata": {},
     "output_type": "execute_result"
    },
    {
     "data": {
      "text/plain": [
       "<matplotlib.axes._subplots.AxesSubplot at 0x2deeb675e48>"
      ]
     },
     "execution_count": 3,
     "metadata": {},
     "output_type": "execute_result"
    },
    {
     "data": {
      "text/plain": [
       "[<matplotlib.lines.Line2D at 0x2deeb675da0>]"
      ]
     },
     "execution_count": 3,
     "metadata": {},
     "output_type": "execute_result"
    },
    {
     "data": {
      "text/plain": [
       "Text(0,0.5,'Balance vs Limit')"
      ]
     },
     "execution_count": 3,
     "metadata": {},
     "output_type": "execute_result"
    },
    {
     "data": {
      "text/plain": [
       "<matplotlib.axes._subplots.AxesSubplot at 0x2deec6995f8>"
      ]
     },
     "execution_count": 3,
     "metadata": {},
     "output_type": "execute_result"
    },
    {
     "data": {
      "text/plain": [
       "[<matplotlib.lines.Line2D at 0x2deec6bc8d0>]"
      ]
     },
     "execution_count": 3,
     "metadata": {},
     "output_type": "execute_result"
    },
    {
     "data": {
      "text/plain": [
       "Text(0,0.5,'Balance vs Rating')"
      ]
     },
     "execution_count": 3,
     "metadata": {},
     "output_type": "execute_result"
    },
    {
     "data": {
      "text/plain": [
       "<matplotlib.axes._subplots.AxesSubplot at 0x2deec6bcd68>"
      ]
     },
     "execution_count": 3,
     "metadata": {},
     "output_type": "execute_result"
    },
    {
     "data": {
      "text/plain": [
       "[<matplotlib.lines.Line2D at 0x2deec6ed080>]"
      ]
     },
     "execution_count": 3,
     "metadata": {},
     "output_type": "execute_result"
    },
    {
     "data": {
      "text/plain": [
       "Text(0,0.5,'Balance vs Cards')"
      ]
     },
     "execution_count": 3,
     "metadata": {},
     "output_type": "execute_result"
    },
    {
     "data": {
      "text/plain": [
       "<matplotlib.axes._subplots.AxesSubplot at 0x2deec6ed588>"
      ]
     },
     "execution_count": 3,
     "metadata": {},
     "output_type": "execute_result"
    },
    {
     "data": {
      "text/plain": [
       "[<matplotlib.lines.Line2D at 0x2deec717898>]"
      ]
     },
     "execution_count": 3,
     "metadata": {},
     "output_type": "execute_result"
    },
    {
     "data": {
      "text/plain": [
       "Text(0,0.5,'Balance vs Age')"
      ]
     },
     "execution_count": 3,
     "metadata": {},
     "output_type": "execute_result"
    },
    {
     "data": {
      "text/plain": [
       "<matplotlib.axes._subplots.AxesSubplot at 0x2deec717d30>"
      ]
     },
     "execution_count": 3,
     "metadata": {},
     "output_type": "execute_result"
    },
    {
     "data": {
      "text/plain": [
       "[<matplotlib.lines.Line2D at 0x2deec717860>]"
      ]
     },
     "execution_count": 3,
     "metadata": {},
     "output_type": "execute_result"
    },
    {
     "data": {
      "text/plain": [
       "Text(0,0.5,'Balance vs Education')"
      ]
     },
     "execution_count": 3,
     "metadata": {},
     "output_type": "execute_result"
    },
    {
     "data": {
      "text/plain": [
       "<matplotlib.axes._subplots.AxesSubplot at 0x2deec7704e0>"
      ]
     },
     "execution_count": 3,
     "metadata": {},
     "output_type": "execute_result"
    },
    {
     "data": {
      "text/plain": [
       "[<matplotlib.lines.Line2D at 0x2deeb679eb8>]"
      ]
     },
     "execution_count": 3,
     "metadata": {},
     "output_type": "execute_result"
    },
    {
     "data": {
      "text/plain": [
       "Text(0,0.5,'Gender vs Education')"
      ]
     },
     "execution_count": 3,
     "metadata": {},
     "output_type": "execute_result"
    },
    {
     "data": {
      "text/plain": [
       "<matplotlib.axes._subplots.AxesSubplot at 0x2deec772c88>"
      ]
     },
     "execution_count": 3,
     "metadata": {},
     "output_type": "execute_result"
    },
    {
     "data": {
      "text/plain": [
       "[<matplotlib.lines.Line2D at 0x2deeb6a96d8>]"
      ]
     },
     "execution_count": 3,
     "metadata": {},
     "output_type": "execute_result"
    },
    {
     "data": {
      "text/plain": [
       "Text(0,0.5,'Student vs Education')"
      ]
     },
     "execution_count": 3,
     "metadata": {},
     "output_type": "execute_result"
    },
    {
     "data": {
      "text/plain": [
       "<matplotlib.axes._subplots.AxesSubplot at 0x2deec7b13c8>"
      ]
     },
     "execution_count": 3,
     "metadata": {},
     "output_type": "execute_result"
    },
    {
     "data": {
      "text/plain": [
       "[<matplotlib.lines.Line2D at 0x2deec7b1550>]"
      ]
     },
     "execution_count": 3,
     "metadata": {},
     "output_type": "execute_result"
    },
    {
     "data": {
      "text/plain": [
       "Text(0,0.5,'Married vs Education')"
      ]
     },
     "execution_count": 3,
     "metadata": {},
     "output_type": "execute_result"
    },
    {
     "data": {
      "text/plain": [
       "<matplotlib.axes._subplots.AxesSubplot at 0x2deec7fdf60>"
      ]
     },
     "execution_count": 3,
     "metadata": {},
     "output_type": "execute_result"
    },
    {
     "data": {
      "text/plain": [
       "[<matplotlib.lines.Line2D at 0x2deec7d6cc0>]"
      ]
     },
     "execution_count": 3,
     "metadata": {},
     "output_type": "execute_result"
    },
    {
     "data": {
      "text/plain": [
       "Text(0,0.5,'Ethnicity vs Education')"
      ]
     },
     "execution_count": 3,
     "metadata": {},
     "output_type": "execute_result"
    },
    {
     "data": {
      "text/html": [
       "<div>\n",
       "<style scoped>\n",
       "    .dataframe tbody tr th:only-of-type {\n",
       "        vertical-align: middle;\n",
       "    }\n",
       "\n",
       "    .dataframe tbody tr th {\n",
       "        vertical-align: top;\n",
       "    }\n",
       "\n",
       "    .dataframe thead th {\n",
       "        text-align: right;\n",
       "    }\n",
       "</style>\n",
       "<table border=\"1\" class=\"dataframe\">\n",
       "  <thead>\n",
       "    <tr style=\"text-align: right;\">\n",
       "      <th></th>\n",
       "      <th>Income</th>\n",
       "      <th>Limit</th>\n",
       "      <th>Rating</th>\n",
       "      <th>Cards</th>\n",
       "      <th>Age</th>\n",
       "      <th>Education</th>\n",
       "    </tr>\n",
       "  </thead>\n",
       "  <tbody>\n",
       "    <tr>\n",
       "      <th>0</th>\n",
       "      <td>14.891</td>\n",
       "      <td>3606</td>\n",
       "      <td>283</td>\n",
       "      <td>2</td>\n",
       "      <td>34</td>\n",
       "      <td>11</td>\n",
       "    </tr>\n",
       "    <tr>\n",
       "      <th>1</th>\n",
       "      <td>106.025</td>\n",
       "      <td>6645</td>\n",
       "      <td>483</td>\n",
       "      <td>3</td>\n",
       "      <td>82</td>\n",
       "      <td>15</td>\n",
       "    </tr>\n",
       "    <tr>\n",
       "      <th>2</th>\n",
       "      <td>104.593</td>\n",
       "      <td>7075</td>\n",
       "      <td>514</td>\n",
       "      <td>4</td>\n",
       "      <td>71</td>\n",
       "      <td>11</td>\n",
       "    </tr>\n",
       "    <tr>\n",
       "      <th>3</th>\n",
       "      <td>148.924</td>\n",
       "      <td>9504</td>\n",
       "      <td>681</td>\n",
       "      <td>3</td>\n",
       "      <td>36</td>\n",
       "      <td>11</td>\n",
       "    </tr>\n",
       "    <tr>\n",
       "      <th>4</th>\n",
       "      <td>55.882</td>\n",
       "      <td>4897</td>\n",
       "      <td>357</td>\n",
       "      <td>2</td>\n",
       "      <td>68</td>\n",
       "      <td>16</td>\n",
       "    </tr>\n",
       "  </tbody>\n",
       "</table>\n",
       "</div>"
      ],
      "text/plain": [
       "    Income  Limit  Rating  Cards  Age  Education\n",
       "0   14.891   3606     283      2   34         11\n",
       "1  106.025   6645     483      3   82         15\n",
       "2  104.593   7075     514      4   71         11\n",
       "3  148.924   9504     681      3   36         11\n",
       "4   55.882   4897     357      2   68         16"
      ]
     },
     "execution_count": 3,
     "metadata": {},
     "output_type": "execute_result"
    },
    {
     "data": {
      "text/plain": [
       "LogisticRegression(C=1.0, class_weight=None, dual=False, fit_intercept=True,\n",
       "          intercept_scaling=1, max_iter=100, multi_class='ovr', n_jobs=1,\n",
       "          penalty='l2', random_state=None, solver='liblinear', tol=0.0001,\n",
       "          verbose=0, warm_start=False)"
      ]
     },
     "execution_count": 3,
     "metadata": {},
     "output_type": "execute_result"
    },
    {
     "name": "stdout",
     "output_type": "stream",
     "text": [
      "[-0.81363578]\n",
      "[[-0.00950572  0.00499434 -0.05897994  0.11851539 -0.05977501 -0.35404606]]\n"
     ]
    },
    {
     "data": {
      "text/plain": [
       "LinearDiscriminantAnalysis(n_components=None, priors=None, shrinkage=None,\n",
       "              solver='svd', store_covariance=False, tol=0.0001)"
      ]
     },
     "execution_count": 3,
     "metadata": {},
     "output_type": "execute_result"
    },
    {
     "data": {
      "text/plain": [
       "QuadraticDiscriminantAnalysis(priors=None, reg_param=0.0,\n",
       "               store_covariance=False, store_covariances=None, tol=0.0001)"
      ]
     },
     "execution_count": 3,
     "metadata": {},
     "output_type": "execute_result"
    },
    {
     "name": "stdout",
     "output_type": "stream",
     "text": [
      "y_pred_lr_1:\n",
      "[0]\n",
      "y_pred_lda_1:\n",
      "[0]\n",
      "y_pred_qda_1:\n",
      "[0]\n",
      "y_pred_lr_2:\n",
      "[1]\n",
      "y_pred_lda_2:\n",
      "[1]\n",
      "y_pred_qda_2:\n",
      "[1]\n",
      "confusion_matrix_lr\n",
      "[[390   1]\n",
      " [  6   3]]\n",
      "confusion_matrix_lda\n",
      "[[383   8]\n",
      " [  4   5]]\n",
      "confusion_matrix_qda\n",
      "[[390   1]\n",
      " [  2   7]]\n",
      "accuracy_score_lr\n",
      "0.9825\n",
      "accuracy_score_lda\n",
      "0.97\n",
      "accuracy_score_qda\n",
      "0.9925\n",
      "AUC lr\n",
      "0.6653878942881499\n",
      "AUC lda\n",
      "0.7675475987496447\n",
      "AUC qda\n",
      "0.8876101165103721\n"
     ]
    },
    {
     "data": {
      "text/plain": [
       "<Figure size 360x360 with 0 Axes>"
      ]
     },
     "execution_count": 3,
     "metadata": {},
     "output_type": "execute_result"
    },
    {
     "data": {
      "text/plain": [
       "Text(0.5,1,'Receiver Operating Characteristic')"
      ]
     },
     "execution_count": 3,
     "metadata": {},
     "output_type": "execute_result"
    },
    {
     "data": {
      "text/plain": [
       "[<matplotlib.lines.Line2D at 0x2deec849668>]"
      ]
     },
     "execution_count": 3,
     "metadata": {},
     "output_type": "execute_result"
    },
    {
     "data": {
      "text/plain": [
       "[<matplotlib.lines.Line2D at 0x2deec87ce80>]"
      ]
     },
     "execution_count": 3,
     "metadata": {},
     "output_type": "execute_result"
    },
    {
     "data": {
      "text/plain": [
       "[<matplotlib.lines.Line2D at 0x2deec834c88>]"
      ]
     },
     "execution_count": 3,
     "metadata": {},
     "output_type": "execute_result"
    },
    {
     "data": {
      "image/png": "[encoded data removed]",
      "text/plain": [
       "<Figure size 1584x1584 with 10 Axes>"
      ]
     },
     "metadata": {
      "needs_background": "light"
     },
     "output_type": "display_data"
    },
    {
     "data": {
      "image/png": "[encoded data removed]",
      "text/plain": [
       "<Figure size 360x360 with 1 Axes>"
      ]
     },
     "metadata": {
      "needs_background": "light"
     },
     "output_type": "display_data"
    }
   ],
   "source": [
    "import pandas as pd\n",
    "#2 Load the Data\n",
    "filename = 'data/Credit.csv'\n",
    "Credit = pd.read_csv(filename, usecols=[1, 2, 3,4,5,6,7,8,9,10,11])\n",
    "Credit.head()\n",
    "#3 Describe the Data\n",
    "print(Credit.describe())\n",
    "#4 Plot\n",
    "import matplotlib.pyplot as plt\n",
    "plt.figure(1,figsize=(22,22))\n",
    "plt.subplot(10,1,1)\n",
    "plt.plot(Credit['Income'], Credit['Balance'],'ro')\n",
    "plt.ylabel('Balance vs Income')\n",
    "plt.subplot(10,1,2)\n",
    "plt.plot(Credit['Limit'], Credit['Balance'],'ro')\n",
    "plt.ylabel('Balance vs Limit')\n",
    "plt.subplot(10,1,3)\n",
    "plt.plot(Credit['Rating'], Credit['Balance'],'ro')\n",
    "plt.ylabel('Balance vs Rating')\n",
    "plt.subplot(10,1,4)\n",
    "plt.plot(Credit['Cards'], Credit['Balance'],'ro')\n",
    "plt.ylabel('Balance vs Cards')\n",
    "plt.subplot(10,1,5)\n",
    "plt.plot(Credit['Age'], Credit['Balance'],'ro')\n",
    "plt.ylabel('Balance vs Age')\n",
    "plt.subplot(10,1,6)\n",
    "plt.plot(Credit['Education'], Credit['Balance'],'ro')\n",
    "plt.ylabel('Balance vs Education')\n",
    "plt.subplot(10,1,7)\n",
    "plt.plot(Credit['Gender'], Credit['Balance'],'ro')\n",
    "plt.ylabel('Gender vs Education')\n",
    "plt.subplot(10,1,8)\n",
    "plt.plot(Credit['Student'], Credit['Balance'],'ro')\n",
    "plt.ylabel('Student vs Education')\n",
    "plt.subplot(10,1,9)\n",
    "plt.plot(Credit['Married'], Credit['Balance'],'ro')\n",
    "plt.ylabel('Married vs Education')\n",
    "plt.subplot(10,1,10)\n",
    "plt.plot(Credit['Ethnicity'], Credit['Balance'],'ro')\n",
    "plt.ylabel('Ethnicity vs Education')\n",
    "#Based on the plots we can see the balance is a variable of Income, limit and rating. However, it is not really dependent\n",
    "#on cards, age, education, being married or student and ethnicity. We cannot see a trend in the last seven plots\n",
    "#5 Create a Matrix X\n",
    "X = pd.read_csv(filename, usecols=[1, 2, 3,4,5,6])\n",
    "X.head()\n",
    "#6\n",
    "Balance_1500=[]\n",
    "for i in Credit['Balance']:\n",
    " if i>1500:\n",
    "  Balance_1500+=[1]\n",
    " else:\n",
    "  Balance_1500+=[0]\n",
    "\n",
    "#7 Model Balance_1500\n",
    "#Logistic Regression\n",
    "from sklearn.linear_model import LogisticRegression\n",
    "\n",
    "X = X\n",
    "y = Balance_1500\n",
    "\n",
    "lr = LogisticRegression()\n",
    "lr.fit(X, y)\n",
    "print(lr.intercept_)\n",
    "print(lr.coef_)\n",
    "#linear discriminant\n",
    "from sklearn.discriminant_analysis import LinearDiscriminantAnalysis\n",
    "X = X\n",
    "y = Balance_1500\n",
    "lda = LinearDiscriminantAnalysis()\n",
    "lda.fit(X,y)\n",
    "#Quadratic discriminant\n",
    "from sklearn.discriminant_analysis import QuadraticDiscriminantAnalysis \n",
    "X = X\n",
    "y = Balance_1500\n",
    "qda = QuadraticDiscriminantAnalysis()\n",
    "qda.fit(X,y)\n",
    "#8\n",
    "#Those coeffiecients for Income, Age and education are -0.00950572,  -0.05977501 and -0.35404606and ,respectively. We can see\n",
    "#based on these coeffiecients the effect of education is more than age and after that is the income.\n",
    "#9\n",
    "#Logistic Regression\n",
    "\n",
    "X_test_1=[[63,8100,600,4,30,13]]\n",
    "y_pred_lr_1=lr.predict(X_test_1)\n",
    "print(\"y_pred_lr_1:\")\n",
    "print(y_pred_lr_1)\n",
    "\n",
    "y_pred_lda_1=lda.predict(X_test_1)\n",
    "print(\"y_pred_lda_1:\")\n",
    "print(y_pred_lda_1)\n",
    "\n",
    "y_pred_qda_1=lda.predict(X_test_1)\n",
    "print(\"y_pred_qda_1:\")\n",
    "print(y_pred_qda_1)\n",
    "\n",
    "X_test_2=[[186,13414,950,2,41,13]]\n",
    "y_pred_lr_2=lr.predict(X_test_2)\n",
    "print(\"y_pred_lr_2:\")\n",
    "print(y_pred_lr_2)\n",
    "\n",
    "y_pred_lda_2=lda.predict(X_test_2)\n",
    "print(\"y_pred_lda_2:\")\n",
    "print(y_pred_lda_2)\n",
    "\n",
    "y_pred_qda_2=qda.predict(X_test_2)\n",
    "print(\"y_pred_qda_2:\")\n",
    "print(y_pred_qda_2)\n",
    "\n",
    "#10\n",
    "#Print the confusion Matrix\n",
    "from sklearn.metrics import confusion_matrix\n",
    "\n",
    "y_pred = lr.predict(X)\n",
    "print(\"confusion_matrix_lr\")\n",
    "print(confusion_matrix(y, y_pred))\n",
    "\n",
    "y_pred = lda.predict(X)\n",
    "print(\"confusion_matrix_lda\")\n",
    "print(confusion_matrix(y, y_pred))\n",
    "\n",
    "y_pred = qda.predict(X)\n",
    "print(\"confusion_matrix_qda\")\n",
    "print(confusion_matrix(y, y_pred))\n",
    "\n",
    "#Accuracy Score\n",
    "\n",
    "from sklearn.metrics import accuracy_score\n",
    "\n",
    "y_pred = lr.predict(X)\n",
    "print(\"accuracy_score_lr\")\n",
    "print(accuracy_score(y, y_pred))\n",
    "\n",
    "y_pred = lda.predict(X)\n",
    "print(\"accuracy_score_lda\")\n",
    "print(accuracy_score(y, y_pred))\n",
    "\n",
    "y_pred = qda.predict(X)\n",
    "print(\"accuracy_score_qda\")\n",
    "print(accuracy_score(y, y_pred))\n",
    "\n",
    "#AUC\n",
    "\n",
    "from sklearn import metrics\n",
    "\n",
    "y_pred = lr.predict(X)\n",
    "fpr, tpr, thresholds = metrics.roc_curve(y, y_pred)\n",
    "print(\"AUC lr\")\n",
    "print(metrics.auc(fpr,tpr))\n",
    "\n",
    "y_pred = lda.predict(X)\n",
    "fpr, tpr, thresholds = metrics.roc_curve(y, y_pred)\n",
    "print(\"AUC lda\")\n",
    "print(metrics.auc(fpr,tpr))\n",
    "\n",
    "y_pred = qda.predict(X)\n",
    "fpr, tpr, thresholds = metrics.roc_curve(y, y_pred)\n",
    "print(\"AUC qda\")\n",
    "print(metrics.auc(fpr,tpr))\n",
    "\n",
    "#11 ROC CURVE\n",
    "from sklearn import metrics\n",
    "y_pred = lr.predict(X)\n",
    "fpr_lr, tpr_lr, thresholds = metrics.roc_curve(y, y_pred)\n",
    "roc_auc_lr = metrics.auc(fpr_lr, tpr_lr)\n",
    "\n",
    "y_pred = lda.predict(X)\n",
    "fpr_lda, tpr_lda, thresholds = metrics.roc_curve(y, y_pred)\n",
    "roc_auc_lda = metrics.auc(fpr_lda, tpr_lda)\n",
    "\n",
    "y_pred = qda.predict(X)\n",
    "fpr_qda, tpr_qda, thresholds = metrics.roc_curve(y, y_pred)\n",
    "roc_auc_qda = metrics.auc(fpr_qda, tpr_qda)\n",
    "\n",
    "#Plot\n",
    "import matplotlib.pyplot as plt\n",
    "plt.figure(2,figsize=(5,5))\n",
    "plt.title('Receiver Operating Characteristic')\n",
    "plt.plot(fpr_lr, tpr_lr, 'b', label = 'AUC = %0.2f' % roc_auc_lr)\n",
    "plt.plot(fpr_lda, tpr_lda, 'b', label = 'AUC = %0.2f' % roc_auc_lda)\n",
    "plt.plot(fpr_qda, tpr_qda, 'b', label = 'AUC = %0.2f' % roc_auc_qda)\n",
    "\n"
   ]
  },
  {
   "cell_type": "markdown",
   "metadata": {},
   "source": [
    "- From the dataset `Credit.csv`, the variable `Student` is extracted and saved as `Student`. \n",
    "- The number of observations in `Student` is saved as `population_size`.\n",
    "- `Student` is factorized and I have computed the proportion of \"students\" and saved it as `true_p`. \n",
    "\n",
    "- The following simple logistic regression model is considered\n",
    "\n",
    "$$ \\mathrm{Pr}(\\mathrm{Student = Yes}) = \\frac{e^{\\beta}}{1 + e^{\\beta}}. $$\n",
    "\n",
    "- The objective is to estimate $\\beta$ by manipulating the likelihood of the model.\n",
    "\n",
    "- A variable `sample_size` $=100$ is defined. i have taken samples `sample_size` number of observations from `Student` and called it `sample`.\n",
    "- A function is defined and called `likelihood` which takes one argument `beta` and computes the likelihood of `beta` based on the `sample`.  \n",
    "- I have randomly generate $50$ numbers from the **continuous uniform** distribution $U[-5;5]$. These numbers are saved as `beta_candidate`.\n",
    "- Using the `likelihood` function defined before, the likelihood of `beta_candidate` is computed and saved as `likelihood_candidate`. Then, I have ploted the `likelihood_candidate` versus `beta_candidate`.\n",
    "- Based on the chosen `beta_candidate`, the `true_p` is estimated (or $\\mathrm{Pr}(\\mathrm{Student = Yes})$ )."
   ]
  },
  {
   "cell_type": "code",
   "execution_count": 4,
   "metadata": {},
   "outputs": [
    {
     "data": {
      "text/html": [
       "<div>\n",
       "<style scoped>\n",
       "    .dataframe tbody tr th:only-of-type {\n",
       "        vertical-align: middle;\n",
       "    }\n",
       "\n",
       "    .dataframe tbody tr th {\n",
       "        vertical-align: top;\n",
       "    }\n",
       "\n",
       "    .dataframe thead th {\n",
       "        text-align: right;\n",
       "    }\n",
       "</style>\n",
       "<table border=\"1\" class=\"dataframe\">\n",
       "  <thead>\n",
       "    <tr style=\"text-align: right;\">\n",
       "      <th></th>\n",
       "      <th>Income</th>\n",
       "      <th>Limit</th>\n",
       "      <th>Rating</th>\n",
       "      <th>Cards</th>\n",
       "      <th>Age</th>\n",
       "      <th>Education</th>\n",
       "      <th>Gender</th>\n",
       "      <th>Student</th>\n",
       "      <th>Married</th>\n",
       "      <th>Ethnicity</th>\n",
       "      <th>Balance</th>\n",
       "    </tr>\n",
       "  </thead>\n",
       "  <tbody>\n",
       "    <tr>\n",
       "      <th>0</th>\n",
       "      <td>14.891</td>\n",
       "      <td>3606</td>\n",
       "      <td>283</td>\n",
       "      <td>2</td>\n",
       "      <td>34</td>\n",
       "      <td>11</td>\n",
       "      <td>Male</td>\n",
       "      <td>No</td>\n",
       "      <td>Yes</td>\n",
       "      <td>Caucasian</td>\n",
       "      <td>333</td>\n",
       "    </tr>\n",
       "    <tr>\n",
       "      <th>1</th>\n",
       "      <td>106.025</td>\n",
       "      <td>6645</td>\n",
       "      <td>483</td>\n",
       "      <td>3</td>\n",
       "      <td>82</td>\n",
       "      <td>15</td>\n",
       "      <td>Female</td>\n",
       "      <td>Yes</td>\n",
       "      <td>Yes</td>\n",
       "      <td>Asian</td>\n",
       "      <td>903</td>\n",
       "    </tr>\n",
       "    <tr>\n",
       "      <th>2</th>\n",
       "      <td>104.593</td>\n",
       "      <td>7075</td>\n",
       "      <td>514</td>\n",
       "      <td>4</td>\n",
       "      <td>71</td>\n",
       "      <td>11</td>\n",
       "      <td>Male</td>\n",
       "      <td>No</td>\n",
       "      <td>No</td>\n",
       "      <td>Asian</td>\n",
       "      <td>580</td>\n",
       "    </tr>\n",
       "    <tr>\n",
       "      <th>3</th>\n",
       "      <td>148.924</td>\n",
       "      <td>9504</td>\n",
       "      <td>681</td>\n",
       "      <td>3</td>\n",
       "      <td>36</td>\n",
       "      <td>11</td>\n",
       "      <td>Female</td>\n",
       "      <td>No</td>\n",
       "      <td>No</td>\n",
       "      <td>Asian</td>\n",
       "      <td>964</td>\n",
       "    </tr>\n",
       "    <tr>\n",
       "      <th>4</th>\n",
       "      <td>55.882</td>\n",
       "      <td>4897</td>\n",
       "      <td>357</td>\n",
       "      <td>2</td>\n",
       "      <td>68</td>\n",
       "      <td>16</td>\n",
       "      <td>Male</td>\n",
       "      <td>No</td>\n",
       "      <td>Yes</td>\n",
       "      <td>Caucasian</td>\n",
       "      <td>331</td>\n",
       "    </tr>\n",
       "  </tbody>\n",
       "</table>\n",
       "</div>"
      ],
      "text/plain": [
       "    Income  Limit  Rating  Cards  Age  Education  Gender Student Married  \\\n",
       "0   14.891   3606     283      2   34         11    Male      No     Yes   \n",
       "1  106.025   6645     483      3   82         15  Female     Yes     Yes   \n",
       "2  104.593   7075     514      4   71         11    Male      No      No   \n",
       "3  148.924   9504     681      3   36         11  Female      No      No   \n",
       "4   55.882   4897     357      2   68         16    Male      No     Yes   \n",
       "\n",
       "   Ethnicity  Balance  \n",
       "0  Caucasian      333  \n",
       "1      Asian      903  \n",
       "2      Asian      580  \n",
       "3      Asian      964  \n",
       "4  Caucasian      331  "
      ]
     },
     "execution_count": 4,
     "metadata": {},
     "output_type": "execute_result"
    },
    {
     "name": "stdout",
     "output_type": "stream",
     "text": [
      "count     400\n",
      "unique      2\n",
      "top        No\n",
      "freq      360\n",
      "Name: Student, dtype: object\n",
      "proportion\n",
      "0.1111111111111111\n"
     ]
    },
    {
     "name": "stderr",
     "output_type": "stream",
     "text": [
      "C:\\Users\\farzad\\Anaconda3\\lib\\site-packages\\ipykernel_launcher.py:10: SettingWithCopyWarning: \n",
      "A value is trying to be set on a copy of a slice from a DataFrame\n",
      "\n",
      "See the caveats in the documentation: http://pandas.pydata.org/pandas-docs/stable/indexing.html#indexing-view-versus-copy\n",
      "  # Remove the CWD from sys.path while we load stuff.\n"
     ]
    }
   ],
   "source": [
    "import pandas as pd\n",
    "#2 Load the Data\n",
    "filename = 'data/Credit.csv'\n",
    "Credit = pd.read_csv(filename, usecols=[1, 2, 3,4,5,6,7,8,9,10,11])\n",
    "Credit.head()\n",
    "students = Credit['Student']\n",
    "print(students.describe())\n",
    "population_size=400\n",
    "#3\n",
    "students['students_factorize'] = students.factorize()[0]\n",
    "\n",
    "no=0\n",
    "yes=0\n",
    "for i in students['students_factorize']:\n",
    "  if i==0:\n",
    "    no=no+1\n",
    "  else:\n",
    "    yes=yes+1\n",
    "proportion=yes/no\n",
    "print(\"proportion\")\n",
    "print(proportion)\n",
    "\n",
    "#4 take 100 samples\n",
    "import random\n",
    "import numpy as np\n",
    "sample_size=50\n",
    "sample=np.random.choice(students,size=sample_size)\n",
    "#5 \n",
    "import pandas as pd\n",
    "import math\n",
    "def likelihood(beta):\n",
    "    p_i=(np.exp(beta))/(1+np.exp(beta))\n",
    "    like=math.pow(p_i,sample)*(math.pow(1-p_i,1-sample))\n",
    "    return like\n",
    "#6\n",
    "beta_candidate=np.random.uniform(-5,5,size=50)\n",
    "#7 MY FUNCTION GIVES ERRORS\n",
    "#likelihood_candidate=likelihood(beta_candidate)"
   ]
  },
  {
   "cell_type": "code",
   "execution_count": null,
   "metadata": {},
   "outputs": [],
   "source": []
  }
 ],
 "metadata": {
  "kernelspec": {
   "display_name": "Python 3",
   "language": "python",
   "name": "python3"
  },
  "language_info": {
   "codemirror_mode": {
    "name": "ipython",
    "version": 3
   },
   "file_extension": ".py",
   "mimetype": "text/x-python",
   "name": "python",
   "nbconvert_exporter": "python",
   "pygments_lexer": "ipython3",
   "version": "3.7.0"
  }
 },
 "nbformat": 4,
 "nbformat_minor": 2
}
