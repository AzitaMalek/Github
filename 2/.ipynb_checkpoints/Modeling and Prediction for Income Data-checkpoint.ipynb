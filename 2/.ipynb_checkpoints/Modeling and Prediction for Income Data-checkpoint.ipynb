{
 "cells": [
  {
   "cell_type": "markdown",
   "metadata": {},
   "source": []
  },
  {
   "cell_type": "code",
   "execution_count": 2,
   "metadata": {},
   "outputs": [],
   "source": [
    "# The following piece of code gives the opportunity to show multiple outputs\n",
    "# in one cell:\n",
    "from IPython.core.interactiveshell import InteractiveShell\n",
    "InteractiveShell.ast_node_interactivity = \"all\"\n",
    "\n",
    "\n",
    "# Colorful outputs\n",
    "class bcolors:\n",
    "    RED       = '\\033[91m'\n",
    "    OKBLUE    = '\\033[94m'\n",
    "    BOLD      = '\\033[1m'\n",
    "    UNDERLINE = '\\033[4m'\n",
    "    ENDC      = '\\033[0m'"
   ]
  },
  {
   "cell_type": "markdown",
   "metadata": {},
   "source": [
    "- \"Income\" data is described using descriptive statistics such as measures of central tendancy, dispersion or association.\n",
    "- Data is vizualized through various figures.\n",
    "- Data is modeled as a linear function of `Years of Education`.\n",
    "- Scatterplot is made for dependent and independent variables used in the model versus each other. \n",
    "- The slope of the fitted line is plotted and a $95\\%$ confidence interval is provided for the estimate slope.\n",
    "- The fitted line is added over the scatterplot.\n",
    "- Using the **discrete uniform** distribution, $10$ numbers are randomly generated between the $25$ and $75$ percentiles of the variable `Years of Education` in the original data, then each person's income is predicted based on the model.\n",
    "- Then, `Income` is modeled as a linear function of both `Years of Education` and `Seniority` and the estimated coefficients are printed after the model has been fitted.\n",
    "- I have calculated the `Income` of a new individual with $18$ years of education and $60$ years of seniority\n",
    "- Conclusions are made.\n"
   ]
  },
  {
   "cell_type": "code",
   "execution_count": 3,
   "metadata": {},
   "outputs": [
    {
     "data": {
      "text/html": [
       "<div>\n",
       "<style scoped>\n",
       "    .dataframe tbody tr th:only-of-type {\n",
       "        vertical-align: middle;\n",
       "    }\n",
       "\n",
       "    .dataframe tbody tr th {\n",
       "        vertical-align: top;\n",
       "    }\n",
       "\n",
       "    .dataframe thead th {\n",
       "        text-align: right;\n",
       "    }\n",
       "</style>\n",
       "<table border=\"1\" class=\"dataframe\">\n",
       "  <thead>\n",
       "    <tr style=\"text-align: right;\">\n",
       "      <th></th>\n",
       "      <th>Education</th>\n",
       "      <th>Seniority</th>\n",
       "      <th>Income</th>\n",
       "    </tr>\n",
       "  </thead>\n",
       "  <tbody>\n",
       "    <tr>\n",
       "      <th>0</th>\n",
       "      <td>21.586207</td>\n",
       "      <td>113.103448</td>\n",
       "      <td>99.917173</td>\n",
       "    </tr>\n",
       "    <tr>\n",
       "      <th>1</th>\n",
       "      <td>18.275862</td>\n",
       "      <td>119.310345</td>\n",
       "      <td>92.579135</td>\n",
       "    </tr>\n",
       "    <tr>\n",
       "      <th>2</th>\n",
       "      <td>12.068966</td>\n",
       "      <td>100.689655</td>\n",
       "      <td>34.678727</td>\n",
       "    </tr>\n",
       "    <tr>\n",
       "      <th>3</th>\n",
       "      <td>17.034483</td>\n",
       "      <td>187.586207</td>\n",
       "      <td>78.702806</td>\n",
       "    </tr>\n",
       "    <tr>\n",
       "      <th>4</th>\n",
       "      <td>19.931034</td>\n",
       "      <td>20.000000</td>\n",
       "      <td>68.009922</td>\n",
       "    </tr>\n",
       "  </tbody>\n",
       "</table>\n",
       "</div>"
      ],
      "text/plain": [
       "   Education   Seniority     Income\n",
       "0  21.586207  113.103448  99.917173\n",
       "1  18.275862  119.310345  92.579135\n",
       "2  12.068966  100.689655  34.678727\n",
       "3  17.034483  187.586207  78.702806\n",
       "4  19.931034   20.000000  68.009922"
      ]
     },
     "execution_count": 3,
     "metadata": {},
     "output_type": "execute_result"
    },
    {
     "name": "stdout",
     "output_type": "stream",
     "text": [
      "       Education   Seniority     Income\n",
      "count  30.000000   30.000000  30.000000\n",
      "mean   16.386207   93.862069  62.744733\n",
      "std     3.810622   55.715623  27.013285\n",
      "min    10.000000   20.000000  17.613593\n",
      "25%    12.482759   44.827586  36.392043\n",
      "50%    17.034483   94.482759  70.804791\n",
      "75%    19.931034  133.275862  85.930608\n",
      "max    21.586207  187.586207  99.917173\n"
     ]
    },
    {
     "data": {
      "text/plain": [
       "<Figure size 432x288 with 0 Axes>"
      ]
     },
     "execution_count": 3,
     "metadata": {},
     "output_type": "execute_result"
    },
    {
     "data": {
      "text/plain": [
       "<matplotlib.axes._subplots.AxesSubplot at 0x1cbe8ba4dd8>"
      ]
     },
     "execution_count": 3,
     "metadata": {},
     "output_type": "execute_result"
    },
    {
     "data": {
      "text/plain": [
       "[<matplotlib.lines.Line2D at 0x1cbea91ab70>]"
      ]
     },
     "execution_count": 3,
     "metadata": {},
     "output_type": "execute_result"
    },
    {
     "data": {
      "text/plain": [
       "Text(0,0.5,'Income vs Education')"
      ]
     },
     "execution_count": 3,
     "metadata": {},
     "output_type": "execute_result"
    },
    {
     "data": {
      "text/plain": [
       "<matplotlib.axes._subplots.AxesSubplot at 0x1cbea95b5c0>"
      ]
     },
     "execution_count": 3,
     "metadata": {},
     "output_type": "execute_result"
    },
    {
     "data": {
      "text/plain": [
       "[<matplotlib.lines.Line2D at 0x1cbe966ff60>]"
      ]
     },
     "execution_count": 3,
     "metadata": {},
     "output_type": "execute_result"
    },
    {
     "data": {
      "text/plain": [
       "Text(0,0.5,'Income vs Seniority')"
      ]
     },
     "execution_count": 3,
     "metadata": {},
     "output_type": "execute_result"
    },
    {
     "data": {
      "text/plain": [
       "LinearRegression(copy_X=True, fit_intercept=True, n_jobs=1, normalize=False)"
      ]
     },
     "execution_count": 3,
     "metadata": {},
     "output_type": "execute_result"
    },
    {
     "name": "stdout",
     "output_type": "stream",
     "text": [
      "-41.91661220978736 [6.38716122]\n"
     ]
    },
    {
     "data": {
      "text/plain": [
       "<Figure size 432x288 with 0 Axes>"
      ]
     },
     "execution_count": 3,
     "metadata": {},
     "output_type": "execute_result"
    },
    {
     "data": {
      "text/plain": [
       "[<matplotlib.lines.Line2D at 0x1cbea756ac8>]"
      ]
     },
     "execution_count": 3,
     "metadata": {},
     "output_type": "execute_result"
    },
    {
     "data": {
      "text/plain": [
       "[<matplotlib.lines.Line2D at 0x1cbe968aa90>]"
      ]
     },
     "execution_count": 3,
     "metadata": {},
     "output_type": "execute_result"
    },
    {
     "data": {
      "text/plain": [
       "Text(0.5,0,'Education')"
      ]
     },
     "execution_count": 3,
     "metadata": {},
     "output_type": "execute_result"
    },
    {
     "data": {
      "text/plain": [
       "Text(0,0.5,'Income')"
      ]
     },
     "execution_count": 3,
     "metadata": {},
     "output_type": "execute_result"
    },
    {
     "name": "stdout",
     "output_type": "stream",
     "text": [
      "95% Confidence interval:\n",
      "(array([-1.08152101]), array([13.85584344]))\n",
      "[53.89080605 47.50364483 41.11648361 41.11648361 41.11648361 60.27796727\n",
      " 41.11648361 47.50364483 34.7293224  41.11648361]\n"
     ]
    },
    {
     "data": {
      "text/plain": [
       "LinearRegression(copy_X=True, fit_intercept=True, n_jobs=1, normalize=False)"
      ]
     },
     "execution_count": 3,
     "metadata": {},
     "output_type": "execute_result"
    },
    {
     "name": "stdout",
     "output_type": "stream",
     "text": [
      "Multiple Linear Regression Parameters:\n",
      "-50.08563875473375 [5.89555596 0.17285547]\n",
      "predicted_income_of_60_yrs\n",
      "66.40569672526627\n"
     ]
    },
    {
     "data": {
      "text/plain": [
       "LinearRegression(copy_X=True, fit_intercept=True, n_jobs=1, normalize=False)"
      ]
     },
     "execution_count": 3,
     "metadata": {},
     "output_type": "execute_result"
    },
    {
     "name": "stdout",
     "output_type": "stream",
     "text": [
      "Multiple Linear Regression Parameters After Changing the Units:\n",
      "-50.08563875473375 [5.89555596 2.07426563]\n"
     ]
    },
    {
     "data": {
      "image/png": "[encoded data removed]",
      "text/plain": [
       "<Figure size 432x288 with 2 Axes>"
      ]
     },
     "metadata": {
      "needs_background": "light"
     },
     "output_type": "display_data"
    },
    {
     "data": {
      "image/png": "[encoded data removed]",
      "text/plain": [
       "<Figure size 432x288 with 1 Axes>"
      ]
     },
     "metadata": {
      "needs_background": "light"
     },
     "output_type": "display_data"
    }
   ],
   "source": [
    "import pandas as pd\n",
    "#2 Load the Data\n",
    "filename = 'data/Income2.csv'\n",
    "Income2 = pd.read_csv(filename, usecols=[1, 2, 3])\n",
    "Income2.head()\n",
    "#3 Describe the Data\n",
    "print(Income2.describe())\n",
    "#4 Plot\n",
    "import matplotlib.pyplot as plt\n",
    "plt.figure(1)\n",
    "plt.subplot(211)\n",
    "plt.plot(Income2['Education'], Income2['Income'],'ro')\n",
    "plt.ylabel('Income vs Education')\n",
    "plt.subplot(212)\n",
    "plt.plot(Income2['Seniority'], Income2['Income'],'ro')\n",
    "plt.ylabel('Income vs Seniority')\n",
    "#As expected, income increases with education and we can clearly see that in above figure.\n",
    "#I also expected to see the income increase with increase in seniority. We can see some increase.\n",
    "#However, the trend is not as clear as the previous parameter.\n",
    "\n",
    "#5, 6 : Model and Plot Income vs Years of Education\n",
    "\n",
    "from sklearn.linear_model import LinearRegression\n",
    "# initialize the model first\n",
    "lr = LinearRegression()\n",
    "# fit the model and feed the data\n",
    "lr.fit(X = Income2[ ['Education'] ], y = Income2['Income'])\n",
    "# regression parameters intercept is beta0 and coef_ is beta1\n",
    "print(lr.intercept_, lr.coef_)\n",
    "plt.figure()\n",
    "plt.plot(Income2.Education, Income2.Income, 'or', mfc='none');\n",
    "# add a regression line\n",
    "plt.plot(Income2.Education, lr.intercept_+lr.coef_*Income2.Education, \"-b\");\n",
    "plt.xlabel('Education');\n",
    "plt.ylabel('Income');\n",
    "# Linear model seem to be appropriate for this data since by a quick look at the data we can see income is increasing as\n",
    "#number of years of education increases.\n",
    "#I believe more data would have been useful to see if we can find a more appropriate model for the data\n",
    "#7, 8 Print the estimated Slope and provide 95% confidence interval\n",
    "import scipy.stats  as stats\n",
    "import math\n",
    "Education=Income2['Education']\n",
    "predicted_income=lr.intercept_+lr.coef_*Education\n",
    "z_critical = stats.norm.ppf(q = 0.975)\n",
    "predicted_income_std=Education.std()\n",
    "margin_of_error = z_critical * (predicted_income_std/math.sqrt(1))\n",
    "predicted_income_mean=predicted_income.mean()\n",
    "confidence_interval = (lr.coef_ - margin_of_error,lr.coef_ + margin_of_error)\n",
    "print(\"95% Confidence interval:\")\n",
    "print(confidence_interval)\n",
    "#9\n",
    "import numpy as np\n",
    "sample_years=np.random.randint(low=12.482759 , high=19.931034, size=10, dtype='l')\n",
    "predicted_income=lr.intercept_+lr.coef_*sample_years\n",
    "print(predicted_income)\n",
    "#10 Predict Based on both parameters\n",
    "#In this part multiple linear regression is used. It has three parameters. It has two coefficients and one constant.\n",
    "lr = LinearRegression()\n",
    "lr.fit(X = Income2[ ['Education', 'Seniority'] ], y = Income2['Income'])\n",
    "#11\n",
    "print(\"Multiple Linear Regression Parameters:\")\n",
    "print(lr.intercept_, lr.coef_)\n",
    "#12 Income with 18 years of education, 60 years old\n",
    "predicted_income_of_60_yrs=-50.08563875473375+(18*5.89555596)+(60*0.17285547)\n",
    "print(\"predicted_income_of_60_yrs\")\n",
    "print(predicted_income_of_60_yrs)\n",
    "#13 we cannot compare since these vaulues are not in the same units. If we change the units of seniority and fit the model again\n",
    "#then we can see that output is dependent on which one\n",
    "lr = LinearRegression()\n",
    "Seniority=Income2['Seniority']\n",
    "Income2['Seniority']=Seniority/12\n",
    "lr.fit(X = Income2[ ['Education', 'Seniority'] ], y = Income2['Income'])\n",
    "print(\"Multiple Linear Regression Parameters After Changing the Units:\")\n",
    "print(lr.intercept_, lr.coef_)\n",
    "#After changing the units and comparing the coefficients we can conclude that the income is more dependent on the education"
   ]
  },
  {
   "cell_type": "markdown",
   "metadata": {},
   "source": []
  },
  {
   "cell_type": "code",
   "execution_count": null,
   "metadata": {},
   "outputs": [],
   "source": []
  }
 ],
 "metadata": {
  "kernelspec": {
   "display_name": "Python 3",
   "language": "python",
   "name": "python3"
  },
  "language_info": {
   "codemirror_mode": {
    "name": "ipython",
    "version": 3
   },
   "file_extension": ".py",
   "mimetype": "text/x-python",
   "name": "python",
   "nbconvert_exporter": "python",
   "pygments_lexer": "ipython3",
   "version": "3.7.0"
  }
 },
 "nbformat": 4,
 "nbformat_minor": 2
}
