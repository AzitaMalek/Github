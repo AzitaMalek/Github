{
 "cells": [
  {
   "cell_type": "code",
   "execution_count": 1,
   "metadata": {},
   "outputs": [],
   "source": [
    "# The following piece of code gives the opportunity to show multiple outputs\n",
    "# in one cell:\n",
    "from IPython.core.interactiveshell import InteractiveShell\n",
    "InteractiveShell.ast_node_interactivity = \"all\"\n",
    "\n",
    "\n",
    "# Colorful outputs\n",
    "class bcolors:\n",
    "    RED       = '\\033[91m'\n",
    "    OKBLUE    = '\\033[94m'\n",
    "    BOLD      = '\\033[1m'\n",
    "    UNDERLINE = '\\033[4m'\n",
    "    ENDC      = '\\033[0m'"
   ]
  },
  {
   "cell_type": "markdown",
   "metadata": {},
   "source": [
    "- The objective of this exercise is to understand the notions of underfitting and overfitting. Using cross-validation on simulated data.\n",
    "\n",
    "##### Synthetic data\n",
    "- I have generated 100 points equally distanced from -20 to 20 and save them in a `numpy` array `x`.\n",
    "- I have created a new numpy array `y` defined as $y_i=\\mathrm{sin}(x_i) + 0.05 x_i^3 + \\varepsilon_i$ where $\\varepsilon_i \\sim \\mathcal{N}(0,100^2)$, for $i=1,...,100$.\n",
    "- I have plotted the scatter plot of `x` and `y`.\n",
    "##### Underfitting vs. Overfitting\n",
    "-I have fitted a linear regression model and called it `model1` : $y=\\beta_0 + \\beta_1 x$ and added the fitted line over the scatter plot and computed the mean squared error of `model1`( `sklearn.metrics.mean_squared_error`).\n",
    "- A polynomial regression model is fitted with degree 5 and called `model2` : $y=\\beta_0 + \\beta_1 x + \\beta_2 x^2 + ... + \\beta_5 x^5$ (`sklearn.preprocessing.PolynomialFeatures` in order to create a **new** input array that includes $x^0$, $x^1$, $x^2$, $x^3$ ...).\n",
    "- The fitted curve is added over the scatter plot and compared `model2` and `model1`.\n",
    "- I have compute the mean squared error of `model2`.\n",
    "- I have fitted a polynomial regression model with degree 20 and called it `model3` : $y=\\beta_0 + \\beta_1 x + \\beta_2 x^2 + ... + \\beta_{20} x^{20}$.\n",
    "- I have added the fitted curve over the scatter plot and compared the models.\n",
    "\n",
    "##### Cross-Validation\n",
    "- Using $10$-fold cross-validation, I have computed the **averaged validation** mean squared errors for all possible polynomial models by varying the degree of the polynomial model from $1$ to $20$.\n",
    "\n",
    "##### LASSO\n",
    "- Using $10$-fold cross-validation and the LASSO regularization, I have fitted the polynomial model with degree 20 and call it `model4`."
   ]
  },
  {
   "cell_type": "code",
   "execution_count": 2,
   "metadata": {},
   "outputs": [
    {
     "data": {
      "text/plain": [
       "<Figure size 640x480 with 0 Axes>"
      ]
     },
     "execution_count": 2,
     "metadata": {},
     "output_type": "execute_result"
    },
    {
     "data": {
      "text/plain": [
       "<matplotlib.collections.PathCollection at 0x15356fa2748>"
      ]
     },
     "execution_count": 2,
     "metadata": {},
     "output_type": "execute_result"
    },
    {
     "data": {
      "text/plain": [
       "LinearRegression(copy_X=True, fit_intercept=True, n_jobs=1, normalize=False)"
      ]
     },
     "execution_count": 2,
     "metadata": {},
     "output_type": "execute_result"
    },
    {
     "name": "stdout",
     "output_type": "stream",
     "text": [
      "[3.66190349] [[11.95414299]]\n"
     ]
    },
    {
     "data": {
      "text/plain": [
       "<Figure size 640x480 with 0 Axes>"
      ]
     },
     "execution_count": 2,
     "metadata": {},
     "output_type": "execute_result"
    },
    {
     "data": {
      "text/plain": [
       "[<matplotlib.lines.Line2D at 0x15358a4da20>]"
      ]
     },
     "execution_count": 2,
     "metadata": {},
     "output_type": "execute_result"
    },
    {
     "data": {
      "text/plain": [
       "[<matplotlib.lines.Line2D at 0x15358a0a780>]"
      ]
     },
     "execution_count": 2,
     "metadata": {},
     "output_type": "execute_result"
    },
    {
     "data": {
      "text/plain": [
       "Text(0.5,0,'x')"
      ]
     },
     "execution_count": 2,
     "metadata": {},
     "output_type": "execute_result"
    },
    {
     "data": {
      "text/plain": [
       "Text(0,0.5,'y')"
      ]
     },
     "execution_count": 2,
     "metadata": {},
     "output_type": "execute_result"
    },
    {
     "name": "stdout",
     "output_type": "stream",
     "text": [
      "11241.151722037856\n"
     ]
    },
    {
     "data": {
      "text/plain": [
       "array([ 1.30171100e-05,  1.08153222e-03,  3.68977527e-02, -2.19195285e-01,\n",
       "        8.76915658e-01, -1.04471377e+01])"
      ]
     },
     "execution_count": 2,
     "metadata": {},
     "output_type": "execute_result"
    },
    {
     "data": {
      "text/plain": [
       "[<matplotlib.lines.Line2D at 0x15358a2f588>]"
      ]
     },
     "execution_count": 2,
     "metadata": {},
     "output_type": "execute_result"
    },
    {
     "name": "stdout",
     "output_type": "stream",
     "text": [
      "8472.186068171914\n"
     ]
    },
    {
     "data": {
      "text/plain": [
       "array([-9.14300854e-20, -4.51973222e-19,  1.80759722e-16,  8.31429832e-16,\n",
       "       -1.51774516e-13, -6.37172421e-13,  7.05742531e-11,  2.63524265e-10,\n",
       "       -1.98806003e-08, -6.36916677e-08,  3.49137895e-06,  9.10666860e-06,\n",
       "       -3.79909010e-04, -7.45679799e-04,  2.47121914e-02,  3.25890595e-02,\n",
       "       -8.89852954e-01, -6.50400591e-01,  1.46406789e+01,  6.22182947e+00,\n",
       "       -2.58169217e+01])"
      ]
     },
     "execution_count": 2,
     "metadata": {},
     "output_type": "execute_result"
    },
    {
     "data": {
      "text/plain": [
       "[<matplotlib.lines.Line2D at 0x153589a16a0>]"
      ]
     },
     "execution_count": 2,
     "metadata": {},
     "output_type": "execute_result"
    },
    {
     "name": "stdout",
     "output_type": "stream",
     "text": [
      "10818.22825627065\n"
     ]
    },
    {
     "data": {
      "text/plain": [
       "<Figure size 640x480 with 0 Axes>"
      ]
     },
     "execution_count": 2,
     "metadata": {},
     "output_type": "execute_result"
    },
    {
     "data": {
      "text/plain": [
       "array([12.25131576, -2.22021076])"
      ]
     },
     "execution_count": 2,
     "metadata": {},
     "output_type": "execute_result"
    },
    {
     "data": {
      "text/plain": [
       "<matplotlib.collections.PathCollection at 0x15358aa95c0>"
      ]
     },
     "execution_count": 2,
     "metadata": {},
     "output_type": "execute_result"
    },
    {
     "data": {
      "text/plain": [
       "array([  0.12650604,  12.25131576, -19.4284396 ])"
      ]
     },
     "execution_count": 2,
     "metadata": {},
     "output_type": "execute_result"
    },
    {
     "data": {
      "text/plain": [
       "<matplotlib.collections.PathCollection at 0x15358aa9c88>"
      ]
     },
     "execution_count": 2,
     "metadata": {},
     "output_type": "execute_result"
    },
    {
     "data": {
      "text/plain": [
       "array([  0.04169971,   0.12650604,   2.04256571, -19.4284396 ])"
      ]
     },
     "execution_count": 2,
     "metadata": {},
     "output_type": "execute_result"
    },
    {
     "data": {
      "text/plain": [
       "<matplotlib.collections.PathCollection at 0x15358aa9ac8>"
      ]
     },
     "execution_count": 2,
     "metadata": {},
     "output_type": "execute_result"
    },
    {
     "data": {
      "text/plain": [
       "array([ 4.76878506e-05,  4.16997130e-02,  1.09831174e-01,  2.04256571e+00,\n",
       "       -1.87482881e+01])"
      ]
     },
     "execution_count": 2,
     "metadata": {},
     "output_type": "execute_result"
    },
    {
     "data": {
      "text/plain": [
       "<matplotlib.collections.PathCollection at 0x15358acc358>"
      ]
     },
     "execution_count": 2,
     "metadata": {},
     "output_type": "execute_result"
    },
    {
     "data": {
      "text/plain": [
       "array([-4.43197765e-05,  4.76878506e-05,  6.17832657e-02,  1.09831174e-01,\n",
       "        2.87630192e-01, -1.87482881e+01])"
      ]
     },
     "execution_count": 2,
     "metadata": {},
     "output_type": "execute_result"
    },
    {
     "data": {
      "text/plain": [
       "<matplotlib.collections.PathCollection at 0x15358acc208>"
      ]
     },
     "execution_count": 2,
     "metadata": {},
     "output_type": "execute_result"
    },
    {
     "data": {
      "text/plain": [
       "array([ 4.19017683e-06, -4.43197765e-05, -2.28185940e-03,  6.17832657e-02,\n",
       "        4.26374135e-01,  2.87630192e-01, -2.48920958e+01])"
      ]
     },
     "execution_count": 2,
     "metadata": {},
     "output_type": "execute_result"
    },
    {
     "data": {
      "text/plain": [
       "<matplotlib.collections.PathCollection at 0x15358accc18>"
      ]
     },
     "execution_count": 2,
     "metadata": {},
     "output_type": "execute_result"
    },
    {
     "data": {
      "text/plain": [
       "array([ 4.71670500e-07,  4.19017683e-06, -3.54833875e-04, -2.28185940e-03,\n",
       "        1.19296387e-01,  4.26374135e-01, -2.31597083e+00, -2.48920958e+01])"
      ]
     },
     "execution_count": 2,
     "metadata": {},
     "output_type": "execute_result"
    },
    {
     "data": {
      "text/plain": [
       "<matplotlib.collections.PathCollection at 0x15358acc9e8>"
      ]
     },
     "execution_count": 2,
     "metadata": {},
     "output_type": "execute_result"
    },
    {
     "data": {
      "text/plain": [
       "array([ 1.11231901e-07,  4.71670500e-07, -8.03882860e-05, -3.54833875e-04,\n",
       "        1.75920251e-02,  1.19296387e-01, -1.04514754e+00, -2.31597083e+00,\n",
       "       -8.24829847e+00])"
      ]
     },
     "execution_count": 2,
     "metadata": {},
     "output_type": "execute_result"
    },
    {
     "data": {
      "text/plain": [
       "<matplotlib.collections.PathCollection at 0x15358acc2e8>"
      ]
     },
     "execution_count": 2,
     "metadata": {},
     "output_type": "execute_result"
    },
    {
     "data": {
      "text/plain": [
       "array([-1.99190106e-08,  1.11231901e-07,  1.76449356e-05, -8.03882860e-05,\n",
       "       -5.24837867e-03,  1.75920251e-02,  6.30004671e-01, -1.04514754e+00,\n",
       "       -1.64868528e+01, -8.24829847e+00])"
      ]
     },
     "execution_count": 2,
     "metadata": {},
     "output_type": "execute_result"
    },
    {
     "data": {
      "text/plain": [
       "<matplotlib.collections.PathCollection at 0x15358ae55f8>"
      ]
     },
     "execution_count": 2,
     "metadata": {},
     "output_type": "execute_result"
    },
    {
     "data": {
      "text/plain": [
       "array([ 9.51461529e-10, -1.99190106e-08, -8.05664749e-07,  1.76449356e-05,\n",
       "        2.26804150e-04, -5.24837867e-03, -2.40604930e-02,  6.30004671e-01,\n",
       "        9.09562577e-01, -1.64868528e+01, -2.27011746e+01])"
      ]
     },
     "execution_count": 2,
     "metadata": {},
     "output_type": "execute_result"
    },
    {
     "data": {
      "text/plain": [
       "<matplotlib.collections.PathCollection at 0x15358ae54a8>"
      ]
     },
     "execution_count": 2,
     "metadata": {},
     "output_type": "execute_result"
    },
    {
     "data": {
      "text/plain": [
       "array([ 7.96468748e-11,  9.51461529e-10, -1.04737760e-07, -8.05664749e-07,\n",
       "        5.03135608e-05,  2.26804150e-04, -1.07165318e-02, -2.40604930e-02,\n",
       "        1.00042173e+00,  9.09562577e-01, -2.34345610e+01, -2.27011746e+01])"
      ]
     },
     "execution_count": 2,
     "metadata": {},
     "output_type": "execute_result"
    },
    {
     "data": {
      "text/plain": [
       "<matplotlib.collections.PathCollection at 0x15358ae57f0>"
      ]
     },
     "execution_count": 2,
     "metadata": {},
     "output_type": "execute_result"
    },
    {
     "data": {
      "text/plain": [
       "array([ 1.52499344e-12,  7.96468748e-11, -8.26588698e-10, -1.04737760e-07,\n",
       "       -3.17251824e-08,  5.03135608e-05,  7.23746803e-05, -1.07165318e-02,\n",
       "       -1.02250540e-02,  1.00042173e+00,  4.60089033e-01, -2.34345610e+01,\n",
       "       -2.03614117e+01])"
      ]
     },
     "execution_count": 2,
     "metadata": {},
     "output_type": "execute_result"
    },
    {
     "data": {
      "text/plain": [
       "<matplotlib.collections.PathCollection at 0x15358ae5b70>"
      ]
     },
     "execution_count": 2,
     "metadata": {},
     "output_type": "execute_result"
    },
    {
     "data": {
      "text/plain": [
       "array([-2.96493541e-13,  1.52499344e-12,  4.55208022e-10, -8.26588698e-10,\n",
       "       -2.87016325e-07, -3.17251824e-08,  9.25889147e-05,  7.23746803e-05,\n",
       "       -1.54570153e-02, -1.02250540e-02,  1.22671610e+00,  4.60089033e-01,\n",
       "       -2.64948560e+01, -2.03614117e+01])"
      ]
     },
     "execution_count": 2,
     "metadata": {},
     "output_type": "execute_result"
    },
    {
     "data": {
      "text/plain": [
       "<matplotlib.collections.PathCollection at 0x15358ae5cc0>"
      ]
     },
     "execution_count": 2,
     "metadata": {},
     "output_type": "execute_result"
    },
    {
     "data": {
      "text/plain": [
       "array([ 3.45065343e-14, -2.96493541e-13, -4.56499364e-11,  4.55208022e-10,\n",
       "        2.44289162e-08, -2.87016325e-07, -6.71100018e-06,  9.25889147e-05,\n",
       "        9.75103541e-04, -1.54570153e-02, -6.80099171e-02,  1.22671610e+00,\n",
       "        1.83791567e+00, -2.64948560e+01, -2.56797438e+01])"
      ]
     },
     "execution_count": 2,
     "metadata": {},
     "output_type": "execute_result"
    },
    {
     "data": {
      "text/plain": [
       "<matplotlib.collections.PathCollection at 0x15358ac6898>"
      ]
     },
     "execution_count": 2,
     "metadata": {},
     "output_type": "execute_result"
    },
    {
     "data": {
      "text/plain": [
       "array([-1.31653611e-14,  3.45065343e-14,  1.90208920e-11, -4.56499364e-11,\n",
       "       -1.08508507e-08,  2.44289162e-08,  3.07200654e-06, -6.71100018e-06,\n",
       "       -4.39846186e-04,  9.75103541e-04,  2.76725389e-02, -6.80099171e-02,\n",
       "       -3.05387660e-01,  1.83791567e+00, -1.08554293e+01, -2.56797438e+01])"
      ]
     },
     "execution_count": 2,
     "metadata": {},
     "output_type": "execute_result"
    },
    {
     "data": {
      "text/plain": [
       "<matplotlib.collections.PathCollection at 0x15358ac6438>"
      ]
     },
     "execution_count": 2,
     "metadata": {},
     "output_type": "execute_result"
    },
    {
     "data": {
      "text/plain": [
       "array([ 2.72330435e-16, -1.31653611e-14, -3.92271848e-13,  1.90208920e-11,\n",
       "        2.25393789e-10, -1.08508507e-08, -6.49549702e-08,  3.07200654e-06,\n",
       "        9.56586192e-06, -4.39846186e-04, -6.28394237e-04,  2.76725389e-02,\n",
       "        9.21646726e-03, -3.05387660e-01,  4.28686333e-01, -1.08554293e+01,\n",
       "       -2.14889192e+01])"
      ]
     },
     "execution_count": 2,
     "metadata": {},
     "output_type": "execute_result"
    },
    {
     "data": {
      "text/plain": [
       "<matplotlib.collections.PathCollection at 0x15358ac65f8>"
      ]
     },
     "execution_count": 2,
     "metadata": {},
     "output_type": "execute_result"
    },
    {
     "data": {
      "text/plain": [
       "array([ 2.19679324e-17,  2.72330435e-16, -4.97782149e-14, -3.92271848e-13,\n",
       "        4.40927464e-11,  2.25393789e-10, -1.99385413e-08, -6.49549702e-08,\n",
       "        4.94278037e-06,  9.56586192e-06, -6.57607304e-04, -6.28394237e-04,\n",
       "        4.10639245e-02,  9.21646725e-03, -6.73476151e-01,  4.28686333e-01,\n",
       "       -7.92039129e+00, -2.14889192e+01])"
      ]
     },
     "execution_count": 2,
     "metadata": {},
     "output_type": "execute_result"
    },
    {
     "data": {
      "text/plain": [
       "<matplotlib.collections.PathCollection at 0x15358ac6cf8>"
      ]
     },
     "execution_count": 2,
     "metadata": {},
     "output_type": "execute_result"
    },
    {
     "data": {
      "text/plain": [
       "array([-1.04251084e-17,  2.19679324e-17,  1.86811692e-14, -4.97782149e-14,\n",
       "       -1.39105322e-11,  4.40927464e-11,  5.56699831e-09, -1.99385413e-08,\n",
       "       -1.29207276e-06,  4.94278037e-06,  1.74697539e-04, -6.57607304e-04,\n",
       "       -1.30706787e-02,  4.10639245e-02,  4.77066644e-01, -6.73476151e-01,\n",
       "       -6.31394087e+00, -7.92039129e+00, -5.57953770e+00])"
      ]
     },
     "execution_count": 2,
     "metadata": {},
     "output_type": "execute_result"
    },
    {
     "data": {
      "text/plain": [
       "<matplotlib.collections.PathCollection at 0x15358ac6e10>"
      ]
     },
     "execution_count": 2,
     "metadata": {},
     "output_type": "execute_result"
    },
    {
     "data": {
      "text/plain": [
       "array([ 1.77861319e-18, -1.04251084e-17, -3.29446684e-15,  1.86811692e-14,\n",
       "        2.54943121e-12, -1.39105322e-11, -1.06778871e-09,  5.56699831e-09,\n",
       "        2.62113648e-07, -1.29207276e-06, -3.81950215e-05,  1.74697539e-04,\n",
       "        3.20709418e-03, -1.30706787e-02, -1.45877310e-01,  4.77066644e-01,\n",
       "        3.42133141e+00, -6.31394087e+00, -3.41129749e+01, -5.57953769e+00])"
      ]
     },
     "execution_count": 2,
     "metadata": {},
     "output_type": "execute_result"
    },
    {
     "data": {
      "text/plain": [
       "<matplotlib.collections.PathCollection at 0x15358ab8208>"
      ]
     },
     "execution_count": 2,
     "metadata": {},
     "output_type": "execute_result"
    },
    {
     "data": {
      "text/plain": [
       "array([-1.06864653e-19,  1.77861319e-18,  1.99353796e-16, -3.29446684e-15,\n",
       "       -1.56058779e-13,  2.54943121e-12,  6.65323519e-11, -1.06778871e-09,\n",
       "       -1.67683266e-08,  2.62113648e-07,  2.53772897e-06, -3.81950215e-05,\n",
       "       -2.24094843e-04,  3.20709418e-03,  1.07134274e-02, -1.45877310e-01,\n",
       "       -2.40941305e-01,  3.42133141e+00,  2.06192433e+00, -3.41129749e+01,\n",
       "       -2.16293238e+01])"
      ]
     },
     "execution_count": 2,
     "metadata": {},
     "output_type": "execute_result"
    },
    {
     "data": {
      "text/plain": [
       "<matplotlib.collections.PathCollection at 0x15358ab8320>"
      ]
     },
     "execution_count": 2,
     "metadata": {},
     "output_type": "execute_result"
    },
    {
     "data": {
      "text/plain": [
       "Text(0.5,0,'Degree of Polynomial')"
      ]
     },
     "execution_count": 2,
     "metadata": {},
     "output_type": "execute_result"
    },
    {
     "data": {
      "text/plain": [
       "Text(0,0.5,'Error')"
      ]
     },
     "execution_count": 2,
     "metadata": {},
     "output_type": "execute_result"
    },
    {
     "data": {
      "text/plain": [
       "<Figure size 640x480 with 0 Axes>"
      ]
     },
     "execution_count": 2,
     "metadata": {},
     "output_type": "execute_result"
    },
    {
     "data": {
      "text/plain": [
       "Lasso(alpha=0.04, copy_X=True, fit_intercept=True, max_iter=1000,\n",
       "   normalize=True, positive=False, precompute=False, random_state=None,\n",
       "   selection='cyclic', tol=0.0001, warm_start=False)"
      ]
     },
     "execution_count": 2,
     "metadata": {},
     "output_type": "execute_result"
    },
    {
     "data": {
      "text/plain": [
       "<matplotlib.collections.PathCollection at 0x15358b0b438>"
      ]
     },
     "execution_count": 2,
     "metadata": {},
     "output_type": "execute_result"
    },
    {
     "data": {
      "text/plain": [
       "Lasso(alpha=0.04555555555555556, copy_X=True, fit_intercept=True,\n",
       "   max_iter=1000, normalize=True, positive=False, precompute=False,\n",
       "   random_state=None, selection='cyclic', tol=0.0001, warm_start=False)"
      ]
     },
     "execution_count": 2,
     "metadata": {},
     "output_type": "execute_result"
    },
    {
     "data": {
      "text/plain": [
       "<matplotlib.collections.PathCollection at 0x15358b0ba20>"
      ]
     },
     "execution_count": 2,
     "metadata": {},
     "output_type": "execute_result"
    },
    {
     "data": {
      "text/plain": [
       "Lasso(alpha=0.05111111111111111, copy_X=True, fit_intercept=True,\n",
       "   max_iter=1000, normalize=True, positive=False, precompute=False,\n",
       "   random_state=None, selection='cyclic', tol=0.0001, warm_start=False)"
      ]
     },
     "execution_count": 2,
     "metadata": {},
     "output_type": "execute_result"
    },
    {
     "data": {
      "text/plain": [
       "<matplotlib.collections.PathCollection at 0x15358b0b6d8>"
      ]
     },
     "execution_count": 2,
     "metadata": {},
     "output_type": "execute_result"
    },
    {
     "data": {
      "text/plain": [
       "Lasso(alpha=0.056666666666666664, copy_X=True, fit_intercept=True,\n",
       "   max_iter=1000, normalize=True, positive=False, precompute=False,\n",
       "   random_state=None, selection='cyclic', tol=0.0001, warm_start=False)"
      ]
     },
     "execution_count": 2,
     "metadata": {},
     "output_type": "execute_result"
    },
    {
     "data": {
      "text/plain": [
       "<matplotlib.collections.PathCollection at 0x15358b122b0>"
      ]
     },
     "execution_count": 2,
     "metadata": {},
     "output_type": "execute_result"
    },
    {
     "data": {
      "text/plain": [
       "Lasso(alpha=0.06222222222222222, copy_X=True, fit_intercept=True,\n",
       "   max_iter=1000, normalize=True, positive=False, precompute=False,\n",
       "   random_state=None, selection='cyclic', tol=0.0001, warm_start=False)"
      ]
     },
     "execution_count": 2,
     "metadata": {},
     "output_type": "execute_result"
    },
    {
     "data": {
      "text/plain": [
       "<matplotlib.collections.PathCollection at 0x15358b0bfd0>"
      ]
     },
     "execution_count": 2,
     "metadata": {},
     "output_type": "execute_result"
    },
    {
     "data": {
      "text/plain": [
       "Lasso(alpha=0.06777777777777777, copy_X=True, fit_intercept=True,\n",
       "   max_iter=1000, normalize=True, positive=False, precompute=False,\n",
       "   random_state=None, selection='cyclic', tol=0.0001, warm_start=False)"
      ]
     },
     "execution_count": 2,
     "metadata": {},
     "output_type": "execute_result"
    },
    {
     "data": {
      "text/plain": [
       "<matplotlib.collections.PathCollection at 0x15358b120f0>"
      ]
     },
     "execution_count": 2,
     "metadata": {},
     "output_type": "execute_result"
    },
    {
     "data": {
      "text/plain": [
       "Lasso(alpha=0.07333333333333333, copy_X=True, fit_intercept=True,\n",
       "   max_iter=1000, normalize=True, positive=False, precompute=False,\n",
       "   random_state=None, selection='cyclic', tol=0.0001, warm_start=False)"
      ]
     },
     "execution_count": 2,
     "metadata": {},
     "output_type": "execute_result"
    },
    {
     "data": {
      "text/plain": [
       "<matplotlib.collections.PathCollection at 0x15358b129b0>"
      ]
     },
     "execution_count": 2,
     "metadata": {},
     "output_type": "execute_result"
    },
    {
     "data": {
      "text/plain": [
       "Lasso(alpha=0.07888888888888888, copy_X=True, fit_intercept=True,\n",
       "   max_iter=1000, normalize=True, positive=False, precompute=False,\n",
       "   random_state=None, selection='cyclic', tol=0.0001, warm_start=False)"
      ]
     },
     "execution_count": 2,
     "metadata": {},
     "output_type": "execute_result"
    },
    {
     "data": {
      "text/plain": [
       "<matplotlib.collections.PathCollection at 0x15358b12e48>"
      ]
     },
     "execution_count": 2,
     "metadata": {},
     "output_type": "execute_result"
    },
    {
     "data": {
      "text/plain": [
       "Lasso(alpha=0.08444444444444443, copy_X=True, fit_intercept=True,\n",
       "   max_iter=1000, normalize=True, positive=False, precompute=False,\n",
       "   random_state=None, selection='cyclic', tol=0.0001, warm_start=False)"
      ]
     },
     "execution_count": 2,
     "metadata": {},
     "output_type": "execute_result"
    },
    {
     "data": {
      "text/plain": [
       "<matplotlib.collections.PathCollection at 0x15358b16128>"
      ]
     },
     "execution_count": 2,
     "metadata": {},
     "output_type": "execute_result"
    },
    {
     "data": {
      "text/plain": [
       "Lasso(alpha=0.09, copy_X=True, fit_intercept=True, max_iter=1000,\n",
       "   normalize=True, positive=False, precompute=False, random_state=None,\n",
       "   selection='cyclic', tol=0.0001, warm_start=False)"
      ]
     },
     "execution_count": 2,
     "metadata": {},
     "output_type": "execute_result"
    },
    {
     "data": {
      "text/plain": [
       "<matplotlib.collections.PathCollection at 0x15358b12a58>"
      ]
     },
     "execution_count": 2,
     "metadata": {},
     "output_type": "execute_result"
    },
    {
     "name": "stdout",
     "output_type": "stream",
     "text": [
      "y\n",
      "             0\n",
      "0  -214.296998\n",
      "1  -129.437582\n",
      "2  -582.346913\n",
      "3  -369.926407\n",
      "4  -316.293375\n",
      "5  -267.736544\n",
      "6  -189.542802\n",
      "7  -235.511951\n",
      "8  -235.993261\n",
      "9  -137.251949\n",
      "10 -339.674889\n",
      "11 -192.961547\n",
      "12 -117.831456\n",
      "13 -242.155744\n",
      "14  -52.365222\n",
      "15 -114.275928\n",
      "16    8.619030\n",
      "17  -52.107157\n",
      "18   39.757536\n",
      "19  -70.812421\n",
      "20  -25.020131\n",
      "21  -79.047750\n",
      "22 -419.863466\n",
      "23  -55.506041\n",
      "24  -19.735754\n",
      "25 -261.190576\n",
      "26 -121.863182\n",
      "27 -240.049682\n",
      "28  -26.234767\n",
      "29 -109.623098\n",
      "..         ...\n",
      "70   66.292207\n",
      "71   80.494865\n",
      "72   68.635924\n",
      "73   17.307834\n",
      "74  169.157489\n",
      "75  400.582003\n",
      "76   36.269940\n",
      "77  168.023248\n",
      "78 -167.036652\n",
      "79  -28.222998\n",
      "80   97.165826\n",
      "81  133.570698\n",
      "82  371.169815\n",
      "83  -25.622123\n",
      "84  180.964236\n",
      "85   81.205368\n",
      "86  155.211743\n",
      "87  128.732937\n",
      "88  372.869401\n",
      "89   62.783739\n",
      "90  490.698355\n",
      "91  100.696307\n",
      "92  215.587252\n",
      "93  311.321070\n",
      "94  338.175580\n",
      "95  223.028454\n",
      "96  272.083914\n",
      "97  419.514634\n",
      "98  384.264205\n",
      "99  438.284256\n",
      "\n",
      "[100 rows x 1 columns]\n"
     ]
    },
    {
     "data": {
      "text/plain": [
       "<Figure size 640x480 with 0 Axes>"
      ]
     },
     "execution_count": 2,
     "metadata": {},
     "output_type": "execute_result"
    },
    {
     "data": {
      "text/plain": [
       "[<matplotlib.lines.Line2D at 0x15358b80278>]"
      ]
     },
     "execution_count": 2,
     "metadata": {},
     "output_type": "execute_result"
    },
    {
     "data": {
      "text/plain": [
       "Text(0.5,0,'Number of principal components in regression')"
      ]
     },
     "execution_count": 2,
     "metadata": {},
     "output_type": "execute_result"
    },
    {
     "data": {
      "text/plain": [
       "Text(0,0.5,'R Squared')"
      ]
     },
     "execution_count": 2,
     "metadata": {},
     "output_type": "execute_result"
    }
   ],
   "source": [
    "##Synthetic data\n",
    "#Generate 100 points\n",
    "import numpy as np\n",
    "import math\n",
    "p1=-20\n",
    "p2=20\n",
    "parts=100\n",
    "x=np.linspace(p1, p2, parts)\n",
    "#Create y\n",
    "y=[]\n",
    "eps=np.random.normal(0,100, 100)\n",
    "for i in range(0,100):\n",
    "    y_i=math.sin(x[i])+(0.05*x[i]**3)+eps[i]\n",
    "    y.append(y_i)\n",
    "#Plot Scatter of x,y\n",
    "import matplotlib.pyplot as plt\n",
    "plt.figure(1)\n",
    "plt.scatter(x,y)\n",
    "#We can fit a linear model over data, however, to be more accurate it is better to use a nonlinear model\n",
    "\n",
    "##Underfitting vs. Overfitting\n",
    "import pandas as pd\n",
    "x = pd.DataFrame(data=x)\n",
    "y = pd.DataFrame(data=y)\n",
    "from sklearn.linear_model import LinearRegression\n",
    "lr = LinearRegression()\n",
    "# fit the model and feed the data\n",
    "lr.fit(X = x, y = y)\n",
    "# regression parameters intercept is beta0 and coef_ is beta1\n",
    "print(lr.intercept_, lr.coef_)\n",
    "plt.figure(2)\n",
    "plt.plot(x, y, 'or', mfc='none');\n",
    "# add a regression line\n",
    "plt.plot(x, lr.intercept_+lr.coef_*x, \"-b\");\n",
    "plt.xlabel('x');\n",
    "plt.ylabel('y');\n",
    "#Mean Squard Error\n",
    "model1=lr.intercept_+lr.coef_*x\n",
    "import sklearn\n",
    "print(sklearn.metrics.mean_squared_error(y,model1))\n",
    "##Fit a degree five model\n",
    "x=np.linspace(p1, p2, parts)\n",
    "#Create y\n",
    "y=[]\n",
    "eps=np.random.normal(0,100, 100)\n",
    "for i in range(0,100):\n",
    "    y_i=math.sin(x[i])+(0.05*x[i]**3)+eps[i]\n",
    "    y.append(y_i)\n",
    "import numpy.polynomial.polynomial as poly\n",
    "np.polyfit(x,y,5)\n",
    "coefs = poly.polyfit(x, y, 5)\n",
    "model2 = poly.polyval(x, coefs)\n",
    "plt.plot(x, model2)\n",
    "print(sklearn.metrics.mean_squared_error(y,model2))\n",
    "##Fit a degree 20 model\n",
    "x=np.linspace(p1, p2, parts)\n",
    "#Create y\n",
    "y=[]\n",
    "eps=np.random.normal(0,100, 100)\n",
    "for i in range(0,100):\n",
    "    y_i=math.sin(x[i])+(0.05*x[i]**3)+eps[i]\n",
    "    y.append(y_i)\n",
    "import numpy.polynomial.polynomial as poly\n",
    "np.polyfit(x,y,20)\n",
    "coefs = poly.polyfit(x, y, 20)\n",
    "model3 = poly.polyval(x, coefs)\n",
    "plt.plot(x, model3)\n",
    "print(sklearn.metrics.mean_squared_error(y,model2))\n",
    "##compute the error for all possible degrees\n",
    "x=np.linspace(p1, p2, parts)\n",
    "#Create y\n",
    "y=[]\n",
    "eps=np.random.normal(0,100, 100)\n",
    "for i in range(0,100):\n",
    "    y_i=math.sin(x[i])+(0.05*x[i]**3)+eps[i]\n",
    "    y.append(y_i)\n",
    "import numpy.polynomial.polynomial as poly\n",
    "plt.figure(3)\n",
    "error=[]\n",
    "for j in range(1,21):\n",
    "    np.polyfit(x,y,j)\n",
    "    coefs = poly.polyfit(x, y, j)\n",
    "    model = poly.polyval(x, coefs)\n",
    "    #plt.plot(x, model)\n",
    "    error.append(sklearn.metrics.mean_squared_error(y,model))\n",
    "    plt.scatter(j, sklearn.metrics.mean_squared_error(y,model))\n",
    "plt.xlabel('Degree of Polynomial');\n",
    "plt.ylabel('Error');\n",
    "#Lasso and fitmodel\n",
    "from sklearn import linear_model\n",
    "kk=np.linspace(0.04, 0.09, 10)\n",
    "plt.figure(4)\n",
    "for k in kk:\n",
    " reg = linear_model.Lasso(alpha=k,normalize=True)\n",
    " x = pd.DataFrame(data=x)\n",
    " reg.fit(x,model3)\n",
    " model4=reg.predict(x)\n",
    " #plt.plot(x,model3)\n",
    " #plt.plot(x,model4)\n",
    " #print(\"R Squared:\", reg.score(x, model3))\n",
    " from sklearn.metrics import mean_squared_error\n",
    "# print(\"MSE:\", mean_squared_error(model3, model4))\n",
    " plt.scatter(k,reg.score(x, model3))\n",
    "#I select alpha=0.04 to have the highest R-square\n",
    "\n",
    "## 10-fold CV, with shuffle\n",
    "from sklearn import model_selection\n",
    "import numpy as np\n",
    "# 10-fold CV, with shuffle\n",
    "y=np.reshape(y,(100,1))\n",
    "y = pd.DataFrame(data=y)\n",
    "print(\"y\")\n",
    "print(y)\n",
    "n = len(x)\n",
    "kf_10 = model_selection.KFold(n_splits=10, shuffle=True)\n",
    "\n",
    "regr = LinearRegression()\n",
    "r2 = []\n",
    "\n",
    "# Calculate R2 with only the intercept \n",
    "#(no principal components in regression)\n",
    "score = model_selection.cross_val_score(regr, np.ones((n,1)), y.iloc[:,0], cv=kf_10, scoring='r2').mean()    \n",
    "r2.append(score)\n",
    "\n",
    "# Calculate R2 using CV for the 5 principle components, \n",
    "#adding one component at the time.\n",
    "from sklearn.preprocessing import PolynomialFeatures\n",
    "\n",
    "for i in np.arange(1, 6):\n",
    "    score = model_selection.cross_val_score(regr, PolynomialFeatures(i).fit_transform(x), y, cv=kf_10, scoring='r2').mean()\n",
    "    r2.append(score)\n",
    "    \n",
    "# Plot results\n",
    "plt.figure(5)\n",
    "plt.plot(r2, '-v')\n",
    "plt.xlabel('Number of principal components in regression')\n",
    "plt.ylabel('R Squared')"
   ]
  }
 ],
 "metadata": {
  "kernelspec": {
   "display_name": "Python 3",
   "language": "python",
   "name": "python3"
  },
  "language_info": {
   "codemirror_mode": {
    "name": "ipython",
    "version": 3
   },
   "file_extension": ".py",
   "mimetype": "text/x-python",
   "name": "python",
   "nbconvert_exporter": "python",
   "pygments_lexer": "ipython3",
   "version": "3.7.0"
  }
 },
 "nbformat": 4,
 "nbformat_minor": 2
}
