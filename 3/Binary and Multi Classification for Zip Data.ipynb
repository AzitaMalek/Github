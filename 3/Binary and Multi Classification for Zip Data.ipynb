{
 "cells": [
  {
   "cell_type": "code",
   "execution_count": 1,
   "metadata": {},
   "outputs": [],
   "source": [
    "# The following piece of code gives the opportunity to show multiple outputs\n",
    "# in one cell:\n",
    "from IPython.core.interactiveshell import InteractiveShell\n",
    "InteractiveShell.ast_node_interactivity = \"all\"\n",
    "\n",
    "\n",
    "# Colorful outputs\n",
    "class bcolors:\n",
    "    RED       = '\\033[91m'\n",
    "    OKBLUE    = '\\033[94m'\n",
    "    BOLD      = '\\033[1m'\n",
    "    UNDERLINE = '\\033[4m'\n",
    "    ENDC      = '\\033[0m'"
   ]
  },
  {
   "cell_type": "markdown",
   "metadata": {},
   "source": [
    "### Binary Classification\n",
    "- The data `ziptrain.csv` and `ziptest.csv` are used and explored.\n",
    "- From `ziptrain` dataset I have selected only the rows corresponding to digits $2$ and $7$ and saved them in a new dataset called `binar_train`. Same thing is done in `ziptest` and it is called `binar_test`. \n",
    "- I have projected `binar_train` onto the first two principal components and made a scatterplot of the data in the new space.\n",
    "- Data is Fitted by a logistic regression, in the new space,to separate digits $2$ and $7$. I have evaluated the trainded model on `binar_test` using \n",
    "    + recall,\n",
    "    + precision,\n",
    "    + accuracy, and \n",
    "    + appropriate F-measure.\n",
    "- A confusion matrix is built for the predictions.\n",
    "- Now, instead of using only $2$ principle components, I have projected `binar_train` onto the first $m=2, 3, ...$ principal components (one $m$ at a time), and trained a logistic classifier each time.  \n",
    "### Multi-Classification <span style=\"color:green\">(BONUS: 25 points)</span>\n",
    "- I have projected the `ziptrain` (**not `binar_train`**) onto first two principal components and made a scatterplot to confirm wheather or not only two principal components separates **all** digits properly.\n",
    "- I have used a linear discriminant on `ziptrain` over the $256$ original pixels and built the confusion matrix for the trained model over `ziptrain` (**not `ziptest`**).\n",
    "- Then, I have used a linear disciminant in spaces of $m=2,3,...$ PCs to train the classifier and the result is evaluated by the **precision** of predictions over `ziptest` dataset."
   ]
  },
  {
   "cell_type": "code",
   "execution_count": 2,
   "metadata": {},
   "outputs": [
    {
     "name": "stdout",
     "output_type": "stream",
     "text": [
      "[False False False ... False False False]\n",
      "(198, 257)\n",
      "[False False False ... False False False]\n",
      "(147, 257)\n"
     ]
    },
    {
     "data": {
      "text/plain": [
       "(345, 257)"
      ]
     },
     "execution_count": 2,
     "metadata": {},
     "output_type": "execute_result"
    },
    {
     "name": "stdout",
     "output_type": "stream",
     "text": [
      "[False False False ... False False False]\n",
      "(731, 257)\n",
      "[False False False ... False False False]\n",
      "(645, 257)\n"
     ]
    },
    {
     "data": {
      "text/plain": [
       "(1376, 257)"
      ]
     },
     "execution_count": 2,
     "metadata": {},
     "output_type": "execute_result"
    },
    {
     "data": {
      "text/plain": [
       "PCA(copy=True, iterated_power='auto', n_components=2, random_state=None,\n",
       "  svd_solver='auto', tol=0.0, whiten=False)"
      ]
     },
     "execution_count": 2,
     "metadata": {},
     "output_type": "execute_result"
    },
    {
     "data": {
      "text/html": [
       "<div>\n",
       "<style scoped>\n",
       "    .dataframe tbody tr th:only-of-type {\n",
       "        vertical-align: middle;\n",
       "    }\n",
       "\n",
       "    .dataframe tbody tr th {\n",
       "        vertical-align: top;\n",
       "    }\n",
       "\n",
       "    .dataframe thead th {\n",
       "        text-align: right;\n",
       "    }\n",
       "</style>\n",
       "<table border=\"1\" class=\"dataframe\">\n",
       "  <thead>\n",
       "    <tr style=\"text-align: right;\">\n",
       "      <th></th>\n",
       "      <th>0</th>\n",
       "      <th>1</th>\n",
       "    </tr>\n",
       "  </thead>\n",
       "  <tbody>\n",
       "    <tr>\n",
       "      <th>0</th>\n",
       "      <td>6.170833</td>\n",
       "      <td>1.125082</td>\n",
       "    </tr>\n",
       "    <tr>\n",
       "      <th>1</th>\n",
       "      <td>-3.317885</td>\n",
       "      <td>-1.851948</td>\n",
       "    </tr>\n",
       "    <tr>\n",
       "      <th>2</th>\n",
       "      <td>3.073119</td>\n",
       "      <td>-4.297047</td>\n",
       "    </tr>\n",
       "    <tr>\n",
       "      <th>3</th>\n",
       "      <td>4.008856</td>\n",
       "      <td>0.497935</td>\n",
       "    </tr>\n",
       "    <tr>\n",
       "      <th>4</th>\n",
       "      <td>6.956282</td>\n",
       "      <td>-5.635829</td>\n",
       "    </tr>\n",
       "  </tbody>\n",
       "</table>\n",
       "</div>"
      ],
      "text/plain": [
       "          0         1\n",
       "0  6.170833  1.125082\n",
       "1 -3.317885 -1.851948\n",
       "2  3.073119 -4.297047\n",
       "3  4.008856  0.497935\n",
       "4  6.956282 -5.635829"
      ]
     },
     "execution_count": 2,
     "metadata": {},
     "output_type": "execute_result"
    },
    {
     "data": {
      "text/plain": [
       "<matplotlib.collections.PathCollection at 0x14fdd4459e8>"
      ]
     },
     "execution_count": 2,
     "metadata": {},
     "output_type": "execute_result"
    },
    {
     "data": {
      "text/plain": [
       "LogisticRegression(C=1.0, class_weight=None, dual=False, fit_intercept=True,\n",
       "          intercept_scaling=1, max_iter=100, multi_class='ovr', n_jobs=1,\n",
       "          penalty='l2', random_state=None, solver='liblinear', tol=0.0001,\n",
       "          verbose=0, warm_start=False)"
      ]
     },
     "execution_count": 2,
     "metadata": {},
     "output_type": "execute_result"
    },
    {
     "name": "stdout",
     "output_type": "stream",
     "text": [
      "[-1.18390371] [[-1.52707338 -0.32453092]]\n"
     ]
    },
    {
     "data": {
      "text/plain": [
       "<Figure size 640x480 with 0 Axes>"
      ]
     },
     "execution_count": 2,
     "metadata": {},
     "output_type": "execute_result"
    },
    {
     "data": {
      "text/plain": [
       "<matplotlib.collections.PathCollection at 0x14fdd497b00>"
      ]
     },
     "execution_count": 2,
     "metadata": {},
     "output_type": "execute_result"
    },
    {
     "data": {
      "text/plain": [
       "<matplotlib.collections.PathCollection at 0x14fdd4894e0>"
      ]
     },
     "execution_count": 2,
     "metadata": {},
     "output_type": "execute_result"
    },
    {
     "name": "stdout",
     "output_type": "stream",
     "text": [
      "Accuracy: 0.9652173913043478\n",
      "Precision: 0.9655172413793104\n",
      "Recall: 0.9523809523809523\n"
     ]
    },
    {
     "data": {
      "text/plain": [
       "array([[193,   5],\n",
       "       [  7, 140]], dtype=int64)"
      ]
     },
     "execution_count": 2,
     "metadata": {},
     "output_type": "execute_result"
    },
    {
     "data": {
      "text/plain": [
       "<Figure size 640x480 with 0 Axes>"
      ]
     },
     "execution_count": 2,
     "metadata": {},
     "output_type": "execute_result"
    },
    {
     "data": {
      "text/plain": [
       "[<matplotlib.lines.Line2D at 0x14fdd5e7da0>]"
      ]
     },
     "execution_count": 2,
     "metadata": {},
     "output_type": "execute_result"
    },
    {
     "data": {
      "text/plain": [
       "Text(0.5,0,'Number of principal components in regression')"
      ]
     },
     "execution_count": 2,
     "metadata": {},
     "output_type": "execute_result"
    },
    {
     "data": {
      "text/plain": [
       "Text(0,0.5,'R Squared')"
      ]
     },
     "execution_count": 2,
     "metadata": {},
     "output_type": "execute_result"
    },
    {
     "data": {
      "text/plain": [
       "<Figure size 640x480 with 0 Axes>"
      ]
     },
     "execution_count": 2,
     "metadata": {},
     "output_type": "execute_result"
    },
    {
     "data": {
      "text/plain": [
       "[<matplotlib.lines.Line2D at 0x14fdd663128>]"
      ]
     },
     "execution_count": 2,
     "metadata": {},
     "output_type": "execute_result"
    },
    {
     "data": {
      "text/plain": [
       "Text(0.5,0,'Number of principal components in regression')"
      ]
     },
     "execution_count": 2,
     "metadata": {},
     "output_type": "execute_result"
    },
    {
     "data": {
      "text/plain": [
       "Text(0,0.5,'R Squared')"
      ]
     },
     "execution_count": 2,
     "metadata": {},
     "output_type": "execute_result"
    },
    {
     "data": {
      "text/plain": [
       "LogisticRegression(C=1.0, class_weight=None, dual=False, fit_intercept=True,\n",
       "          intercept_scaling=1, max_iter=100, multi_class='ovr', n_jobs=1,\n",
       "          penalty='l2', random_state=None, solver='liblinear', tol=0.0001,\n",
       "          verbose=0, warm_start=False)"
      ]
     },
     "execution_count": 2,
     "metadata": {},
     "output_type": "execute_result"
    }
   ],
   "source": [
    "#Question 1\n",
    "import pandas as pd\n",
    "import numpy as np\n",
    "#Upload and Explore the data\n",
    "filename = 'data/ziptrain.csv'\n",
    "zip_train = np.loadtxt(filename)\n",
    "#zip_train.shape()\n",
    "\n",
    "filename = 'data/ziptest.csv'\n",
    "zip_test = np.loadtxt(filename)\n",
    "#zip_test.shape()\n",
    "\n",
    "# Only keep 2 and 7\n",
    "#Test Data\n",
    "binar_test_2 = zip_test[zip_test[:, 0] == 2]\n",
    "print(zip_test[:, 0] == 2)\n",
    "print(binar_test_2.shape)\n",
    "\n",
    "binar_test_7 = zip_test[zip_test[:, 0] == 7]\n",
    "print(zip_test[:, 0] == 7)\n",
    "print(binar_test_7.shape)\n",
    "\n",
    "binar_test_2_7 = np.vstack([binar_test_2, binar_test_7])\n",
    "binar_test_2_7.shape\n",
    "\n",
    "#Train Data\n",
    "binar_train_2 = zip_train[zip_train[:, 0] == 2]\n",
    "print(zip_train[:, 0] == 2)\n",
    "print(binar_train_2.shape)\n",
    "\n",
    "binar_train_7 = zip_train[zip_train[:, 0] == 7]\n",
    "print(zip_train[:, 0] == 7)\n",
    "print(binar_train_7.shape)\n",
    "\n",
    "binar_train_2_7 = np.vstack([binar_train_2, binar_train_7])\n",
    "binar_train_2_7.shape\n",
    "\n",
    "#Principal Components\n",
    "from sklearn.decomposition import PCA\n",
    "pca = PCA(n_components=2)\n",
    "\n",
    "# remove the first column (image label)\n",
    "import matplotlib.pyplot as plt\n",
    "pca.fit(binar_train_2_7[:, 1:])\n",
    "Z = pca.transform(binar_train_2_7[:,1:])\n",
    "pd.DataFrame(Z).head()\n",
    "plt.scatter(Z[:,0], Z[:,1], c= binar_train_2_7[:,0], alpha=0.3);\n",
    "\n",
    "#The data is well separated for most of the parts.\n",
    "\n",
    "#Logistic Regeression\n",
    "from sklearn.linear_model import LogisticRegression\n",
    "lr = LogisticRegression()\n",
    "predictors = Z\n",
    "outcome = (binar_train_2_7[:,0] > 4)*1\n",
    "lr.fit(predictors, outcome)\n",
    "print(lr.intercept_, lr.coef_)\n",
    "plt.figure()\n",
    "plt.scatter(Z[binar_train_2_7[:,0]==2,0], Z[binar_train_2_7[:,0]==2,1], marker='$2$', \n",
    "            color='blue', alpha = 0.3);\n",
    "\n",
    "plt.scatter(Z[binar_train_2_7[:,0]==7,0], Z[binar_train_2_7[:,0]==7,1], marker='$7$', \n",
    "            color='red', alpha = 0.3);\n",
    "\n",
    "# Prediction\n",
    "y_pred_2_7=lr.predict(pca.transform(binar_test_2_7[:,1:]))\n",
    "y_pred_2_7_int=lr.predict(pca.transform(binar_test_2_7[:,1:]))\n",
    "for i in range(0,len(y_pred_2_7_int)):\n",
    "   if int(y_pred_2_7_int[i])==0:\n",
    "    y_pred_2_7_int[i]=2\n",
    "   else:\n",
    "     y_pred_2_7_int[i]=7\n",
    "\n",
    "#Precision, Accuracy and Recall\n",
    "\n",
    "from sklearn import metrics\n",
    "print(\"Accuracy:\",metrics.accuracy_score(binar_test_2_7[:,0], y_pred_2_7_int))\n",
    "\n",
    "for i in range(0,len(binar_test_2_7[:,0])):\n",
    "   if binar_test_2_7[i,0]==2:\n",
    "    binar_test_2_7[i,0]=False\n",
    "   else:\n",
    "     binar_test_2_7[i,0]=True\n",
    "\n",
    "print(\"Precision:\",metrics.precision_score(binar_test_2_7[:,0], y_pred_2_7))\n",
    "print(\"Recall:\",metrics.recall_score(binar_test_2_7[:,0], y_pred_2_7))\n",
    "\n",
    "#### Confusion Matrix\n",
    "\n",
    "from sklearn import metrics\n",
    "cnf_matrix = metrics.confusion_matrix(binar_test_2_7[:,0], y_pred_2_7)\n",
    "cnf_matrix\n",
    "\n",
    "#m principal components\n",
    "from sklearn import model_selection\n",
    "# 10-fold CV, with shuffle\n",
    "n = len(binar_train_2_7)\n",
    "kf_10 = model_selection.KFold(n_splits=10, shuffle=True)\n",
    "\n",
    "lr = LogisticRegression()\n",
    "r2 = []\n",
    "\n",
    "# Calculate R2 with only the intercept \n",
    "#(no principal components in regression)\n",
    "y=binar_train_2_7[:,0]\n",
    "score = model_selection.cross_val_score(lr, np.ones((n,1)), \\\n",
    "                                        y.ravel(), cv=kf_10, \\\n",
    "                                           scoring='r2').mean()    \n",
    "r2.append(score)\n",
    "\n",
    "# Calculate R2 using CV for the 11 principle components, \n",
    "#adding one component at the time.\n",
    "for i in np.arange(1, 12):\n",
    "    score = model_selection.cross_val_score(lr, binar_train_2_7[:,:i], \\\n",
    "                                            y.ravel(), cv=kf_10, \\\n",
    "                                               scoring='r2').mean()\n",
    "    r2.append(score)\n",
    "    \n",
    "# Plot results\n",
    "plt.figure()\n",
    "plt.plot(r2, '-v')\n",
    "plt.xlabel('Number of principal components in regression')\n",
    "plt.ylabel('R Squared')\n",
    "\n",
    "# we select M=2 and will perform the test on test data\n",
    "M=2\n",
    "pca2 = PCA()\n",
    "from sklearn.preprocessing import scale\n",
    "\n",
    "# 10-fold CV, with shuffle\n",
    "kf_10 = model_selection.KFold(n_splits=10, shuffle=True, random_state=1)\n",
    "\n",
    "r2 = []\n",
    "\n",
    "# Calculate R2 with only the intercept (no principal components in regression)\n",
    "score = model_selection.cross_val_score(lr, np.ones((n,1)), y.ravel(), cv=kf_10, scoring='r2').mean()   \n",
    "r2.append(score)\n",
    "\n",
    "# Calculate R2 using CV for the 5 principal components, adding one component at the time.\n",
    "for i in np.arange(1, 6):\n",
    " score = model_selection.cross_val_score(lr, np.ones((n,1)), y.ravel(), cv=kf_10, scoring='r2').mean() \n",
    " r2.append(score)\n",
    "\n",
    "plt.figure()    \n",
    "plt.plot(np.array(r2), '-v')\n",
    "plt.xlabel('Number of principal components in regression')\n",
    "plt.ylabel('R Squared')\n",
    "\n",
    "\n",
    "\n",
    "# Train regression model on training data \n",
    "\n",
    "lr.fit(binar_train_2_7[:,:M], binar_train_2_7[:,0])\n",
    "\n"
   ]
  },
  {
   "cell_type": "markdown",
   "metadata": {},
   "source": [
    "## Question 2 <span style=\"color:red\">(50 points)</span>\n",
    "\n",
    "The objective of this exercise is to understand the notions of underfitting and overfitting. Using cross-validation on simulated data, we will be able to visualize the two concepts.\n",
    "\n",
    "##### Synthetic data\n",
    "1. Generate 100 points equally distanced from -20 to 20 and save them in a `numpy` array `x`.\n",
    "2. Create a new numpy array `y` defined as $y_i=\\mathrm{sin}(x_i) + 0.05 x_i^3 + \\varepsilon_i$ where $\\varepsilon_i \\sim \\mathcal{N}(0,100^2)$, for $i=1,...,100$.\n",
    "3. Plot the scatter plot of `x` and `y`. Do you think that a linear model could fit this data?\n",
    "\n",
    "##### Underfitting vs. Overfitting\n",
    "4. Fit a linear regression model and call it `model1` : $y=\\beta_0 + \\beta_1 x$ and add the fitted line over the scatter plot.\n",
    "5. Compute the mean squared error of `model1`. **Hint** : You can use `sklearn.metrics.mean_squared_error`.\n",
    "6. Fit a polynomial regression model with degree 5 and call it `model2` : $y=\\beta_0 + \\beta_1 x + \\beta_2 x^2 + ... + \\beta_5 x^5$. **Hint** : You can use `sklearn.preprocessing.PolynomialFeatures` in order to create a **new** input array that includes $x^0$, $x^1$, $x^2$, $x^3$ ...\n",
    "7. Add the fitted curve over the scatter plot and compare `model2` and `model1`.\n",
    "8. Compute the mean squared error of `model2`.\n",
    "9. Fit a polynomial regression model with degree 20 and call it `model3` : $y=\\beta_0 + \\beta_1 x + \\beta_2 x^2 + ... + \\beta_{20} x^{20}$.\n",
    "10. Add the fitted curve over the scatter plot and compare the three models. What is the mean squared error of `model3`?\n",
    "\n",
    "##### Cross-Validation\n",
    "11. Using $10$-fold cross-validation, compute the **averaged validation** mean squared errors for all possible polynomial models by varying the degree of the polynomial model from $1$ to $20$.\n",
    "12. Plot the **averaged validation** MSE with respect to the degree of the model. **Hint** : $x$-axis is defined as the degree of the polynomial model, i.e., $1,2,3,...,20$ and $y$-axis is its associated MSE.\n",
    "\n",
    "\n",
    "##### LASSO\n",
    "13. Using $10$-fold cross-validation and the LASSO regularization, fit the polynomial model with degree 20 and call it `model4`. What is the best regularization constant? Show it in a curve. **Hint** : Here, you need to apply the $10$-fold cross-validation over a sequence of regularization constants. The figure will show you what is the best regularization constant, based on MSE or $R^2$.\n",
    "14. Based on the LASSO model, what is the best final model? **Hint** : Once you have chosen the best regularization constant, you can extract the associated coefficients."
   ]
  },
  {
   "cell_type": "code",
   "execution_count": 3,
   "metadata": {},
   "outputs": [
    {
     "data": {
      "text/plain": [
       "<Figure size 432x288 with 0 Axes>"
      ]
     },
     "execution_count": 3,
     "metadata": {},
     "output_type": "execute_result"
    },
    {
     "data": {
      "text/plain": [
       "<matplotlib.collections.PathCollection at 0x14fde89c7b8>"
      ]
     },
     "execution_count": 3,
     "metadata": {},
     "output_type": "execute_result"
    },
    {
     "data": {
      "text/plain": [
       "LinearRegression(copy_X=True, fit_intercept=True, n_jobs=1, normalize=False)"
      ]
     },
     "execution_count": 3,
     "metadata": {},
     "output_type": "execute_result"
    },
    {
     "name": "stdout",
     "output_type": "stream",
     "text": [
      "[19.84185113] [[12.51768688]]\n"
     ]
    },
    {
     "data": {
      "text/plain": [
       "<Figure size 432x288 with 0 Axes>"
      ]
     },
     "execution_count": 3,
     "metadata": {},
     "output_type": "execute_result"
    },
    {
     "data": {
      "text/plain": [
       "[<matplotlib.lines.Line2D at 0x14fde956a58>]"
      ]
     },
     "execution_count": 3,
     "metadata": {},
     "output_type": "execute_result"
    },
    {
     "data": {
      "text/plain": [
       "[<matplotlib.lines.Line2D at 0x14fde94b710>]"
      ]
     },
     "execution_count": 3,
     "metadata": {},
     "output_type": "execute_result"
    },
    {
     "data": {
      "text/plain": [
       "Text(0.5,0,'x')"
      ]
     },
     "execution_count": 3,
     "metadata": {},
     "output_type": "execute_result"
    },
    {
     "data": {
      "text/plain": [
       "Text(0,0.5,'y')"
      ]
     },
     "execution_count": 3,
     "metadata": {},
     "output_type": "execute_result"
    },
    {
     "name": "stdout",
     "output_type": "stream",
     "text": [
      "14953.723474741812\n"
     ]
    },
    {
     "data": {
      "text/plain": [
       "array([-5.88328435e-05, -4.55633570e-04,  8.15488006e-02,  9.82018286e-02,\n",
       "       -2.06372385e+00,  1.03770443e+01])"
      ]
     },
     "execution_count": 3,
     "metadata": {},
     "output_type": "execute_result"
    },
    {
     "data": {
      "text/plain": [
       "[<matplotlib.lines.Line2D at 0x14fde89ccc0>]"
      ]
     },
     "execution_count": 3,
     "metadata": {},
     "output_type": "execute_result"
    },
    {
     "name": "stdout",
     "output_type": "stream",
     "text": [
      "8848.120637298109\n"
     ]
    },
    {
     "data": {
      "text/plain": [
       "array([ 7.70937874e-20,  8.54304008e-19, -1.55868427e-16, -1.67274329e-15,\n",
       "        1.33690236e-13,  1.39025977e-12, -6.32047127e-11, -6.36068276e-10,\n",
       "        1.78913810e-08,  1.73402733e-07, -3.07608007e-06, -2.83982162e-05,\n",
       "        3.09351838e-04,  2.66114108e-03, -1.62325324e-02, -1.24412844e-01,\n",
       "        3.14689810e-01,  1.97015266e+00,  1.57654368e+00,  8.08017104e+00,\n",
       "       -2.54142154e+01])"
      ]
     },
     "execution_count": 3,
     "metadata": {},
     "output_type": "execute_result"
    },
    {
     "data": {
      "text/plain": [
       "[<matplotlib.lines.Line2D at 0x14fde962a90>]"
      ]
     },
     "execution_count": 3,
     "metadata": {},
     "output_type": "execute_result"
    },
    {
     "name": "stdout",
     "output_type": "stream",
     "text": [
      "11848.303757858357\n"
     ]
    },
    {
     "data": {
      "text/plain": [
       "<Figure size 432x288 with 0 Axes>"
      ]
     },
     "execution_count": 3,
     "metadata": {},
     "output_type": "execute_result"
    },
    {
     "data": {
      "text/plain": [
       "array([13.03467423, 21.21397158])"
      ]
     },
     "execution_count": 3,
     "metadata": {},
     "output_type": "execute_result"
    },
    {
     "data": {
      "text/plain": [
       "<matplotlib.collections.PathCollection at 0x14fde9cfb00>"
      ]
     },
     "execution_count": 3,
     "metadata": {},
     "output_type": "execute_result"
    },
    {
     "data": {
      "text/plain": [
       "array([-0.04881511, 13.03467423, 27.85414134])"
      ]
     },
     "execution_count": 3,
     "metadata": {},
     "output_type": "execute_result"
    },
    {
     "data": {
      "text/plain": [
       "<matplotlib.collections.PathCollection at 0x14fde9e1160>"
      ]
     },
     "execution_count": 3,
     "metadata": {},
     "output_type": "execute_result"
    },
    {
     "data": {
      "text/plain": [
       "array([ 0.05182459, -0.04881511,  0.34719333, 27.85414134])"
      ]
     },
     "execution_count": 3,
     "metadata": {},
     "output_type": "execute_result"
    },
    {
     "data": {
      "text/plain": [
       "<matplotlib.collections.PathCollection at 0x14fdea45080>"
      ]
     },
     "execution_count": 3,
     "metadata": {},
     "output_type": "execute_result"
    },
    {
     "data": {
      "text/plain": [
       "array([ 1.88105774e-04,  5.18245925e-02, -1.14589481e-01,  3.47193328e-01,\n",
       "        3.05370141e+01])"
      ]
     },
     "execution_count": 3,
     "metadata": {},
     "output_type": "execute_result"
    },
    {
     "data": {
      "text/plain": [
       "<matplotlib.collections.PathCollection at 0x14fde9e1550>"
      ]
     },
     "execution_count": 3,
     "metadata": {},
     "output_type": "execute_result"
    },
    {
     "data": {
      "text/plain": [
       "array([-6.27390555e-05,  1.88105774e-04,  8.02548607e-02, -1.14589481e-01,\n",
       "       -2.13709260e+00,  3.05370141e+01])"
      ]
     },
     "execution_count": 3,
     "metadata": {},
     "output_type": "execute_result"
    },
    {
     "data": {
      "text/plain": [
       "<matplotlib.collections.PathCollection at 0x14fdea45320>"
      ]
     },
     "execution_count": 3,
     "metadata": {},
     "output_type": "execute_result"
    },
    {
     "data": {
      "text/plain": [
       "array([ 1.50177421e-06, -6.27390555e-05, -6.46812206e-04,  8.02548607e-02,\n",
       "       -1.13936293e-03, -2.13709260e+00,  2.83350516e+01])"
      ]
     },
     "execution_count": 3,
     "metadata": {},
     "output_type": "execute_result"
    },
    {
     "data": {
      "text/plain": [
       "<matplotlib.collections.PathCollection at 0x14fdea455c0>"
      ]
     },
     "execution_count": 3,
     "metadata": {},
     "output_type": "execute_result"
    },
    {
     "data": {
      "text/plain": [
       "array([-8.99843287e-07,  1.50177421e-06,  5.29653361e-04, -6.46812206e-04,\n",
       "       -2.94674894e-02, -1.13936293e-03,  2.83000393e+00,  2.83350516e+01])"
      ]
     },
     "execution_count": 3,
     "metadata": {},
     "output_type": "execute_result"
    },
    {
     "data": {
      "text/plain": [
       "<matplotlib.collections.PathCollection at 0x14fde9e1a20>"
      ]
     },
     "execution_count": 3,
     "metadata": {},
     "output_type": "execute_result"
    },
    {
     "data": {
      "text/plain": [
       "array([ 1.21805812e-08, -8.99843287e-07, -7.76009065e-06,  5.29653361e-04,\n",
       "        1.52950108e-03, -2.94674894e-02, -1.62280089e-01,  2.83000393e+00,\n",
       "        3.01576504e+01])"
      ]
     },
     "execution_count": 3,
     "metadata": {},
     "output_type": "execute_result"
    },
    {
     "data": {
      "text/plain": [
       "<matplotlib.collections.PathCollection at 0x14fdea45ba8>"
      ]
     },
     "execution_count": 3,
     "metadata": {},
     "output_type": "execute_result"
    },
    {
     "data": {
      "text/plain": [
       "array([ 1.42173926e-09,  1.21805812e-08, -2.12560222e-06, -7.76009065e-06,\n",
       "        8.78935006e-04,  1.52950108e-03, -6.59198030e-02, -1.62280089e-01,\n",
       "        3.84146478e+00,  3.01576504e+01])"
      ]
     },
     "execution_count": 3,
     "metadata": {},
     "output_type": "execute_result"
    },
    {
     "data": {
      "text/plain": [
       "<matplotlib.collections.PathCollection at 0x14fdd692ef0>"
      ]
     },
     "execution_count": 3,
     "metadata": {},
     "output_type": "execute_result"
    },
    {
     "data": {
      "text/plain": [
       "array([-1.35796064e-10,  1.42173926e-09,  1.43043419e-07, -2.12560222e-06,\n",
       "       -5.16037169e-05,  8.78935006e-04,  7.47430057e-03, -6.59198030e-02,\n",
       "       -4.41263455e-01,  3.84146478e+00,  3.22204177e+01])"
      ]
     },
     "execution_count": 3,
     "metadata": {},
     "output_type": "execute_result"
    },
    {
     "data": {
      "text/plain": [
       "<matplotlib.collections.PathCollection at 0x14fdea45358>"
      ]
     },
     "execution_count": 3,
     "metadata": {},
     "output_type": "execute_result"
    },
    {
     "data": {
      "text/plain": [
       "array([ 6.84207731e-11, -1.35796064e-10, -7.14419412e-08,  1.43043419e-07,\n",
       "        2.59384317e-05, -5.16037169e-05, -3.81849058e-03,  7.47430057e-03,\n",
       "        2.52287555e-01, -4.41263455e-01, -2.12697492e+00,  3.22204177e+01])"
      ]
     },
     "execution_count": 3,
     "metadata": {},
     "output_type": "execute_result"
    },
    {
     "data": {
      "text/plain": [
       "<matplotlib.collections.PathCollection at 0x14fde9d0748>"
      ]
     },
     "execution_count": 3,
     "metadata": {},
     "output_type": "execute_result"
    },
    {
     "data": {
      "text/plain": [
       "array([ 3.18755204e-12,  6.84207731e-11, -3.85228918e-09, -7.14419412e-08,\n",
       "        1.76073736e-06,  2.59384317e-05, -3.74393283e-04, -3.81849058e-03,\n",
       "        3.63932327e-02,  2.52287555e-01, -1.38075622e+00, -2.12697492e+00,\n",
       "        3.71110066e+01])"
      ]
     },
     "execution_count": 3,
     "metadata": {},
     "output_type": "execute_result"
    },
    {
     "data": {
      "text/plain": [
       "<matplotlib.collections.PathCollection at 0x14fdea45048>"
      ]
     },
     "execution_count": 3,
     "metadata": {},
     "output_type": "execute_result"
    },
    {
     "data": {
      "text/plain": [
       "array([-5.47238330e-13,  3.18755204e-12,  7.61594238e-10, -3.85228918e-09,\n",
       "       -4.07873612e-07,  1.76073736e-06,  1.03966081e-04, -3.74393283e-04,\n",
       "       -1.25680041e-02,  3.63932327e-02,  6.69959230e-01, -1.38075622e+00,\n",
       "       -7.77536340e+00,  3.71110066e+01])"
      ]
     },
     "execution_count": 3,
     "metadata": {},
     "output_type": "execute_result"
    },
    {
     "data": {
      "text/plain": [
       "<matplotlib.collections.PathCollection at 0x14fde9e1e80>"
      ]
     },
     "execution_count": 3,
     "metadata": {},
     "output_type": "execute_result"
    },
    {
     "data": {
      "text/plain": [
       "array([-5.09513476e-14, -5.47238330e-13,  7.28446851e-11,  7.61594238e-10,\n",
       "       -4.11438352e-08, -4.07873612e-07,  1.16231611e-05,  1.03966081e-04,\n",
       "       -1.70733653e-03, -1.25680041e-02,  1.21716685e-01,  6.69959230e-01,\n",
       "       -3.41521507e+00, -7.77536340e+00,  4.49639014e+01])"
      ]
     },
     "execution_count": 3,
     "metadata": {},
     "output_type": "execute_result"
    },
    {
     "data": {
      "text/plain": [
       "<matplotlib.collections.PathCollection at 0x14fde9e1d30>"
      ]
     },
     "execution_count": 3,
     "metadata": {},
     "output_type": "execute_result"
    },
    {
     "data": {
      "text/plain": [
       "array([ 1.19760295e-14, -5.09513476e-14, -1.81195312e-11,  7.28446851e-11,\n",
       "        1.10462869e-08, -4.11438352e-08, -3.46344929e-06,  1.16231611e-05,\n",
       "        5.88302095e-04, -1.70733653e-03, -5.18013235e-02,  1.21716685e-01,\n",
       "        2.06365590e+00, -3.41521507e+00, -2.20019566e+01,  4.49639014e+01])"
      ]
     },
     "execution_count": 3,
     "metadata": {},
     "output_type": "execute_result"
    },
    {
     "data": {
      "text/plain": [
       "<matplotlib.collections.PathCollection at 0x14fdea364e0>"
      ]
     },
     "execution_count": 3,
     "metadata": {},
     "output_type": "execute_result"
    },
    {
     "data": {
      "text/plain": [
       "array([ 1.27937165e-15,  1.19760295e-14, -2.05589862e-12, -1.81195312e-11,\n",
       "        1.34617155e-09,  1.10462869e-08, -4.61057278e-07, -3.46344929e-06,\n",
       "        8.80896638e-05,  5.88302095e-04, -9.24035281e-03, -5.18013235e-02,\n",
       "        4.84515823e-01,  2.06365590e+00, -1.00355844e+01, -2.20019566e+01,\n",
       "        6.46518299e+01])"
      ]
     },
     "execution_count": 3,
     "metadata": {},
     "output_type": "execute_result"
    },
    {
     "data": {
      "text/plain": [
       "<matplotlib.collections.PathCollection at 0x14fdea36630>"
      ]
     },
     "execution_count": 3,
     "metadata": {},
     "output_type": "execute_result"
    },
    {
     "data": {
      "text/plain": [
       "array([ 9.55560616e-17,  1.27937165e-15, -1.47282478e-13, -2.05589862e-12,\n",
       "        9.09379635e-11,  1.34617155e-09, -2.84833287e-08, -4.61057278e-07,\n",
       "        4.67403840e-06,  8.80896638e-05, -3.58914714e-04, -9.24035281e-03,\n",
       "        6.44849504e-03,  4.84515823e-01,  4.62545432e-01, -1.00355844e+01,\n",
       "       -9.23513491e+00,  6.46518299e+01])"
      ]
     },
     "execution_count": 3,
     "metadata": {},
     "output_type": "execute_result"
    },
    {
     "data": {
      "text/plain": [
       "<matplotlib.collections.PathCollection at 0x14fdea36a58>"
      ]
     },
     "execution_count": 3,
     "metadata": {},
     "output_type": "execute_result"
    },
    {
     "data": {
      "text/plain": [
       "array([-2.03183755e-19,  9.55560616e-17,  1.63815708e-15, -1.47282478e-13,\n",
       "       -2.31936743e-12,  9.09379635e-11,  1.45027860e-09, -2.84833287e-08,\n",
       "       -4.84973614e-07,  4.67403840e-06,  9.13080547e-05, -3.58914714e-04,\n",
       "       -9.48285102e-03,  6.44849504e-03,  4.93634151e-01,  4.62545432e-01,\n",
       "       -1.01669972e+01, -9.23513491e+00,  6.49619013e+01])"
      ]
     },
     "execution_count": 3,
     "metadata": {},
     "output_type": "execute_result"
    },
    {
     "data": {
      "text/plain": [
       "<matplotlib.collections.PathCollection at 0x14fdea36a20>"
      ]
     },
     "execution_count": 3,
     "metadata": {},
     "output_type": "execute_result"
    },
    {
     "data": {
      "text/plain": [
       "array([-1.19393042e-18, -2.03183755e-19,  2.32178062e-15,  1.63815708e-15,\n",
       "       -1.89205488e-12, -2.31936743e-12,  8.37311094e-10,  1.45027859e-09,\n",
       "       -2.17816620e-07, -4.84973614e-07,  3.36311688e-05,  9.13080547e-05,\n",
       "       -2.95317450e-03, -9.48285102e-03,  1.31936616e-01,  4.93634151e-01,\n",
       "       -2.28617776e+00, -1.01669972e+01,  8.34717167e+00,  6.49619013e+01])"
      ]
     },
     "execution_count": 3,
     "metadata": {},
     "output_type": "execute_result"
    },
    {
     "data": {
      "text/plain": [
       "<matplotlib.collections.PathCollection at 0x14fdea50390>"
      ]
     },
     "execution_count": 3,
     "metadata": {},
     "output_type": "execute_result"
    },
    {
     "data": {
      "text/plain": [
       "array([ 1.00247784e-19, -1.19393042e-18, -1.96992952e-16,  2.32178062e-15,\n",
       "        1.65558518e-13, -1.89205488e-12, -7.77813713e-11,  8.37311094e-10,\n",
       "        2.24026399e-08, -2.17816620e-07, -4.07764083e-06,  3.36311688e-05,\n",
       "        4.65407922e-04, -2.95317450e-03, -3.17942876e-02,  1.31936616e-01,\n",
       "        1.16718432e+00, -2.28617776e+00, -1.80242437e+01,  8.34717167e+00,\n",
       "        8.00179132e+01])"
      ]
     },
     "execution_count": 3,
     "metadata": {},
     "output_type": "execute_result"
    },
    {
     "data": {
      "text/plain": [
       "<matplotlib.collections.PathCollection at 0x14fdea50a58>"
      ]
     },
     "execution_count": 3,
     "metadata": {},
     "output_type": "execute_result"
    },
    {
     "data": {
      "text/plain": [
       "Text(0.5,0,'Degree of Polynomial')"
      ]
     },
     "execution_count": 3,
     "metadata": {},
     "output_type": "execute_result"
    },
    {
     "data": {
      "text/plain": [
       "Text(0,0.5,'Error')"
      ]
     },
     "execution_count": 3,
     "metadata": {},
     "output_type": "execute_result"
    },
    {
     "data": {
      "text/plain": [
       "<Figure size 432x288 with 0 Axes>"
      ]
     },
     "execution_count": 3,
     "metadata": {},
     "output_type": "execute_result"
    },
    {
     "data": {
      "text/plain": [
       "Lasso(alpha=0.04, copy_X=True, fit_intercept=True, max_iter=1000,\n",
       "   normalize=True, positive=False, precompute=False, random_state=None,\n",
       "   selection='cyclic', tol=0.0001, warm_start=False)"
      ]
     },
     "execution_count": 3,
     "metadata": {},
     "output_type": "execute_result"
    },
    {
     "data": {
      "text/plain": [
       "<matplotlib.collections.PathCollection at 0x14fdeaf3710>"
      ]
     },
     "execution_count": 3,
     "metadata": {},
     "output_type": "execute_result"
    },
    {
     "data": {
      "text/plain": [
       "Lasso(alpha=0.04555555555555556, copy_X=True, fit_intercept=True,\n",
       "   max_iter=1000, normalize=True, positive=False, precompute=False,\n",
       "   random_state=None, selection='cyclic', tol=0.0001, warm_start=False)"
      ]
     },
     "execution_count": 3,
     "metadata": {},
     "output_type": "execute_result"
    },
    {
     "data": {
      "text/plain": [
       "<matplotlib.collections.PathCollection at 0x14fdeaf3d68>"
      ]
     },
     "execution_count": 3,
     "metadata": {},
     "output_type": "execute_result"
    },
    {
     "data": {
      "text/plain": [
       "Lasso(alpha=0.05111111111111111, copy_X=True, fit_intercept=True,\n",
       "   max_iter=1000, normalize=True, positive=False, precompute=False,\n",
       "   random_state=None, selection='cyclic', tol=0.0001, warm_start=False)"
      ]
     },
     "execution_count": 3,
     "metadata": {},
     "output_type": "execute_result"
    },
    {
     "data": {
      "text/plain": [
       "<matplotlib.collections.PathCollection at 0x14fdeaf3b38>"
      ]
     },
     "execution_count": 3,
     "metadata": {},
     "output_type": "execute_result"
    },
    {
     "data": {
      "text/plain": [
       "Lasso(alpha=0.056666666666666664, copy_X=True, fit_intercept=True,\n",
       "   max_iter=1000, normalize=True, positive=False, precompute=False,\n",
       "   random_state=None, selection='cyclic', tol=0.0001, warm_start=False)"
      ]
     },
     "execution_count": 3,
     "metadata": {},
     "output_type": "execute_result"
    },
    {
     "data": {
      "text/plain": [
       "<matplotlib.collections.PathCollection at 0x14fdeb14390>"
      ]
     },
     "execution_count": 3,
     "metadata": {},
     "output_type": "execute_result"
    },
    {
     "data": {
      "text/plain": [
       "Lasso(alpha=0.06222222222222222, copy_X=True, fit_intercept=True,\n",
       "   max_iter=1000, normalize=True, positive=False, precompute=False,\n",
       "   random_state=None, selection='cyclic', tol=0.0001, warm_start=False)"
      ]
     },
     "execution_count": 3,
     "metadata": {},
     "output_type": "execute_result"
    },
    {
     "data": {
      "text/plain": [
       "<matplotlib.collections.PathCollection at 0x14fdeaf3a58>"
      ]
     },
     "execution_count": 3,
     "metadata": {},
     "output_type": "execute_result"
    },
    {
     "data": {
      "text/plain": [
       "Lasso(alpha=0.06777777777777777, copy_X=True, fit_intercept=True,\n",
       "   max_iter=1000, normalize=True, positive=False, precompute=False,\n",
       "   random_state=None, selection='cyclic', tol=0.0001, warm_start=False)"
      ]
     },
     "execution_count": 3,
     "metadata": {},
     "output_type": "execute_result"
    },
    {
     "data": {
      "text/plain": [
       "<matplotlib.collections.PathCollection at 0x14fdeb14a90>"
      ]
     },
     "execution_count": 3,
     "metadata": {},
     "output_type": "execute_result"
    },
    {
     "data": {
      "text/plain": [
       "Lasso(alpha=0.07333333333333333, copy_X=True, fit_intercept=True,\n",
       "   max_iter=1000, normalize=True, positive=False, precompute=False,\n",
       "   random_state=None, selection='cyclic', tol=0.0001, warm_start=False)"
      ]
     },
     "execution_count": 3,
     "metadata": {},
     "output_type": "execute_result"
    },
    {
     "data": {
      "text/plain": [
       "<matplotlib.collections.PathCollection at 0x14fdeb14908>"
      ]
     },
     "execution_count": 3,
     "metadata": {},
     "output_type": "execute_result"
    },
    {
     "data": {
      "text/plain": [
       "Lasso(alpha=0.07888888888888888, copy_X=True, fit_intercept=True,\n",
       "   max_iter=1000, normalize=True, positive=False, precompute=False,\n",
       "   random_state=None, selection='cyclic', tol=0.0001, warm_start=False)"
      ]
     },
     "execution_count": 3,
     "metadata": {},
     "output_type": "execute_result"
    },
    {
     "data": {
      "text/plain": [
       "<matplotlib.collections.PathCollection at 0x14fdeb141d0>"
      ]
     },
     "execution_count": 3,
     "metadata": {},
     "output_type": "execute_result"
    },
    {
     "data": {
      "text/plain": [
       "Lasso(alpha=0.08444444444444443, copy_X=True, fit_intercept=True,\n",
       "   max_iter=1000, normalize=True, positive=False, precompute=False,\n",
       "   random_state=None, selection='cyclic', tol=0.0001, warm_start=False)"
      ]
     },
     "execution_count": 3,
     "metadata": {},
     "output_type": "execute_result"
    },
    {
     "data": {
      "text/plain": [
       "<matplotlib.collections.PathCollection at 0x14fdeb01358>"
      ]
     },
     "execution_count": 3,
     "metadata": {},
     "output_type": "execute_result"
    },
    {
     "data": {
      "text/plain": [
       "Lasso(alpha=0.09, copy_X=True, fit_intercept=True, max_iter=1000,\n",
       "   normalize=True, positive=False, precompute=False, random_state=None,\n",
       "   selection='cyclic', tol=0.0001, warm_start=False)"
      ]
     },
     "execution_count": 3,
     "metadata": {},
     "output_type": "execute_result"
    },
    {
     "data": {
      "text/plain": [
       "<matplotlib.collections.PathCollection at 0x14fdeb01160>"
      ]
     },
     "execution_count": 3,
     "metadata": {},
     "output_type": "execute_result"
    },
    {
     "name": "stdout",
     "output_type": "stream",
     "text": [
      "y\n",
      "             0\n",
      "0  -351.738695\n",
      "1  -385.219604\n",
      "2  -309.266115\n",
      "3  -333.512236\n",
      "4  -154.002719\n",
      "5  -437.802316\n",
      "6  -400.222054\n",
      "7  -374.220362\n",
      "8  -195.972581\n",
      "9  -241.461548\n",
      "10  -68.210927\n",
      "11 -222.735566\n",
      "12 -245.821619\n",
      "13  -32.092973\n",
      "14 -249.285400\n",
      "15 -241.191000\n",
      "16 -346.096290\n",
      "17   41.019983\n",
      "18  -73.443954\n",
      "19  121.482853\n",
      "20 -162.365412\n",
      "21  103.854408\n",
      "22  -86.751153\n",
      "23 -139.421414\n",
      "24   44.264104\n",
      "25   15.849198\n",
      "26   68.764402\n",
      "27  -22.386458\n",
      "28 -171.092400\n",
      "29   77.770139\n",
      "..         ...\n",
      "70  288.080468\n",
      "71   77.599184\n",
      "72 -104.875033\n",
      "73 -132.463458\n",
      "74   -2.951859\n",
      "75  178.406147\n",
      "76  170.332899\n",
      "77   55.731932\n",
      "78  -92.516506\n",
      "79   70.780930\n",
      "80   92.870901\n",
      "81  103.575926\n",
      "82  107.771337\n",
      "83  185.833777\n",
      "84  293.028358\n",
      "85  265.227509\n",
      "86  304.706177\n",
      "87  112.173925\n",
      "88  136.699249\n",
      "89  219.916929\n",
      "90  304.739111\n",
      "91  198.951524\n",
      "92  346.309728\n",
      "93  323.936776\n",
      "94  399.083349\n",
      "95  360.646580\n",
      "96  314.473580\n",
      "97  454.924779\n",
      "98  232.426216\n",
      "99  467.903989\n",
      "\n",
      "[100 rows x 1 columns]\n"
     ]
    },
    {
     "data": {
      "text/plain": [
       "<Figure size 432x288 with 0 Axes>"
      ]
     },
     "execution_count": 3,
     "metadata": {},
     "output_type": "execute_result"
    },
    {
     "data": {
      "text/plain": [
       "[<matplotlib.lines.Line2D at 0x14fdeb834e0>]"
      ]
     },
     "execution_count": 3,
     "metadata": {},
     "output_type": "execute_result"
    },
    {
     "data": {
      "text/plain": [
       "Text(0.5,0,'Number of principal components in regression')"
      ]
     },
     "execution_count": 3,
     "metadata": {},
     "output_type": "execute_result"
    },
    {
     "data": {
      "text/plain": [
       "Text(0,0.5,'R Squared')"
      ]
     },
     "execution_count": 3,
     "metadata": {},
     "output_type": "execute_result"
    },
    {
     "data": {
      "image/png": "[encoded data removed]",
      "text/plain": [
       "<Figure size 432x288 with 1 Axes>"
      ]
     },
     "metadata": {
      "needs_background": "light"
     },
     "output_type": "display_data"
    },
    {
     "data": {
      "image/png": "[encoded data removed]",
      "text/plain": [
       "<Figure size 432x288 with 1 Axes>"
      ]
     },
     "metadata": {
      "needs_background": "light"
     },
     "output_type": "display_data"
    },
    {
     "data": {
      "image/png": "[encoded data removed]",
      "text/plain": [
       "<Figure size 432x288 with 1 Axes>"
      ]
     },
     "metadata": {
      "needs_background": "light"
     },
     "output_type": "display_data"
    },
    {
     "data": {
      "image/png": "[encoded data removed]",
      "text/plain": [
       "<Figure size 432x288 with 1 Axes>"
      ]
     },
     "metadata": {
      "needs_background": "light"
     },
     "output_type": "display_data"
    },
    {
     "data": {
      "image/png": "[encoded data removed]",
      "text/plain": [
       "<Figure size 432x288 with 1 Axes>"
      ]
     },
     "metadata": {
      "needs_background": "light"
     },
     "output_type": "display_data"
    }
   ],
   "source": [
    "##Synthetic data\n",
    "#Generate 100 points\n",
    "import numpy as np\n",
    "import math\n",
    "p1=-20\n",
    "p2=20\n",
    "parts=100\n",
    "x=np.linspace(p1, p2, parts)\n",
    "#Create y\n",
    "y=[]\n",
    "eps=np.random.normal(0,100, 100)\n",
    "for i in range(0,100):\n",
    "    y_i=math.sin(x[i])+(0.05*x[i]**3)+eps[i]\n",
    "    y.append(y_i)\n",
    "#Plot Scatter of x,y\n",
    "import matplotlib.pyplot as plt\n",
    "plt.figure(1)\n",
    "plt.scatter(x,y)\n",
    "#We can fit a linear model over data, however, to be more accurate it is better to use a nonlinear model\n",
    "\n",
    "##Underfitting vs. Overfitting\n",
    "import pandas as pd\n",
    "x = pd.DataFrame(data=x)\n",
    "y = pd.DataFrame(data=y)\n",
    "from sklearn.linear_model import LinearRegression\n",
    "lr = LinearRegression()\n",
    "# fit the model and feed the data\n",
    "lr.fit(X = x, y = y)\n",
    "# regression parameters intercept is beta0 and coef_ is beta1\n",
    "print(lr.intercept_, lr.coef_)\n",
    "plt.figure(2)\n",
    "plt.plot(x, y, 'or', mfc='none');\n",
    "# add a regression line\n",
    "plt.plot(x, lr.intercept_+lr.coef_*x, \"-b\");\n",
    "plt.xlabel('x');\n",
    "plt.ylabel('y');\n",
    "#Mean Squard Error\n",
    "model1=lr.intercept_+lr.coef_*x\n",
    "import sklearn\n",
    "print(sklearn.metrics.mean_squared_error(y,model1))\n",
    "##Fit a degree five model\n",
    "x=np.linspace(p1, p2, parts)\n",
    "#Create y\n",
    "y=[]\n",
    "eps=np.random.normal(0,100, 100)\n",
    "for i in range(0,100):\n",
    "    y_i=math.sin(x[i])+(0.05*x[i]**3)+eps[i]\n",
    "    y.append(y_i)\n",
    "import numpy.polynomial.polynomial as poly\n",
    "np.polyfit(x,y,5)\n",
    "coefs = poly.polyfit(x, y, 5)\n",
    "model2 = poly.polyval(x, coefs)\n",
    "plt.plot(x, model2)\n",
    "print(sklearn.metrics.mean_squared_error(y,model2))\n",
    "##Fit a degree 20 model\n",
    "x=np.linspace(p1, p2, parts)\n",
    "#Create y\n",
    "y=[]\n",
    "eps=np.random.normal(0,100, 100)\n",
    "for i in range(0,100):\n",
    "    y_i=math.sin(x[i])+(0.05*x[i]**3)+eps[i]\n",
    "    y.append(y_i)\n",
    "import numpy.polynomial.polynomial as poly\n",
    "np.polyfit(x,y,20)\n",
    "coefs = poly.polyfit(x, y, 20)\n",
    "model3 = poly.polyval(x, coefs)\n",
    "plt.plot(x, model3)\n",
    "print(sklearn.metrics.mean_squared_error(y,model2))\n",
    "##compute the error for all possible degrees\n",
    "x=np.linspace(p1, p2, parts)\n",
    "#Create y\n",
    "y=[]\n",
    "eps=np.random.normal(0,100, 100)\n",
    "for i in range(0,100):\n",
    "    y_i=math.sin(x[i])+(0.05*x[i]**3)+eps[i]\n",
    "    y.append(y_i)\n",
    "import numpy.polynomial.polynomial as poly\n",
    "plt.figure(3)\n",
    "error=[]\n",
    "for j in range(1,21):\n",
    "    np.polyfit(x,y,j)\n",
    "    coefs = poly.polyfit(x, y, j)\n",
    "    model = poly.polyval(x, coefs)\n",
    "    #plt.plot(x, model)\n",
    "    error.append(sklearn.metrics.mean_squared_error(y,model))\n",
    "    plt.scatter(j, sklearn.metrics.mean_squared_error(y,model))\n",
    "plt.xlabel('Degree of Polynomial');\n",
    "plt.ylabel('Error');\n",
    "#Lasso and fitmodel\n",
    "from sklearn import linear_model\n",
    "kk=np.linspace(0.04, 0.09, 10)\n",
    "plt.figure(4)\n",
    "for k in kk:\n",
    " reg = linear_model.Lasso(alpha=k,normalize=True)\n",
    " x = pd.DataFrame(data=x)\n",
    " reg.fit(x,model3)\n",
    " model4=reg.predict(x)\n",
    " #plt.plot(x,model3)\n",
    " #plt.plot(x,model4)\n",
    " #print(\"R Squared:\", reg.score(x, model3))\n",
    " from sklearn.metrics import mean_squared_error\n",
    "# print(\"MSE:\", mean_squared_error(model3, model4))\n",
    " plt.scatter(k,reg.score(x, model3))\n",
    "#I select alpha=0.04 to have the highest R-square\n",
    "\n",
    "## 10-fold CV, with shuffle\n",
    "from sklearn import model_selection\n",
    "import numpy as np\n",
    "# 10-fold CV, with shuffle\n",
    "y=np.reshape(y,(100,1))\n",
    "y = pd.DataFrame(data=y)\n",
    "print(\"y\")\n",
    "print(y)\n",
    "n = len(x)\n",
    "kf_10 = model_selection.KFold(n_splits=10, shuffle=True)\n",
    "\n",
    "regr = LinearRegression()\n",
    "r2 = []\n",
    "\n",
    "# Calculate R2 with only the intercept \n",
    "#(no principal components in regression)\n",
    "score = model_selection.cross_val_score(regr, np.ones((n,1)), y.iloc[:,0], cv=kf_10, scoring='r2').mean()    \n",
    "r2.append(score)\n",
    "\n",
    "# Calculate R2 using CV for the 5 principle components, \n",
    "#adding one component at the time.\n",
    "from sklearn.preprocessing import PolynomialFeatures\n",
    "\n",
    "for i in np.arange(1, 6):\n",
    "    score = model_selection.cross_val_score(regr, PolynomialFeatures(i).fit_transform(x), y, cv=kf_10, scoring='r2').mean()\n",
    "    r2.append(score)\n",
    "    \n",
    "# Plot results\n",
    "plt.figure(5)\n",
    "plt.plot(r2, '-v')\n",
    "plt.xlabel('Number of principal components in regression')\n",
    "plt.ylabel('R Squared')"
   ]
  },
  {
   "cell_type": "code",
   "execution_count": null,
   "metadata": {},
   "outputs": [],
   "source": []
  },
  {
   "cell_type": "code",
   "execution_count": null,
   "metadata": {},
   "outputs": [],
   "source": []
  },
  {
   "cell_type": "code",
   "execution_count": null,
   "metadata": {},
   "outputs": [],
   "source": []
  },
  {
   "cell_type": "code",
   "execution_count": null,
   "metadata": {},
   "outputs": [],
   "source": []
  }
 ],
 "metadata": {
  "kernelspec": {
   "display_name": "Python 3",
   "language": "python",
   "name": "python3"
  },
  "language_info": {
   "codemirror_mode": {
    "name": "ipython",
    "version": 3
   },
   "file_extension": ".py",
   "mimetype": "text/x-python",
   "name": "python",
   "nbconvert_exporter": "python",
   "pygments_lexer": "ipython3",
   "version": "3.7.0"
  }
 },
 "nbformat": 4,
 "nbformat_minor": 2
}
